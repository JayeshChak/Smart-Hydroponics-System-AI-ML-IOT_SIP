{
  "cells": [
    {
      "cell_type": "code",
      "execution_count": null,
      "metadata": {
        "colab": {
          "base_uri": "https://localhost:8080/",
          "height": 36
        },
        "id": "VMfW0RDdJXxR",
        "outputId": "8d6d68cb-39c6-4e6e-d804-980ded4b6999"
      },
      "outputs": [
        {
          "data": {
            "application/vnd.google.colaboratory.intrinsic+json": {
              "type": "string"
            },
            "text/plain": [
              "'No fertilizer needed. Water quality meets all nutrient requirements.'"
            ]
          },
          "execution_count": 125,
          "metadata": {},
          "output_type": "execute_result"
        }
      ],
      "source": [
        "import pandas as pd\n",
        "import numpy as np\n",
        "import random\n",
        "\n",
        "# Load datasets\n",
        "fertilizer_df = pd.read_csv('pro_fert_data.csv')\n",
        "crop_df = pd.read_csv('pro_crop_data.csv')\n",
        "\n",
        "# Helper function to calculate mode for columns with object type\n",
        "def mode(series):\n",
        "    return series.mode().iloc[0]\n",
        "\n",
        "# Function to recommend fertilizers\n",
        "def recommend_fertilizers(crop_name, growth_stage, water_quality):\n",
        "    # Filter crop data based on crop_name and growth_stage\n",
        "    crop_data = crop_df[(crop_df['crop_name'] == crop_name) & (crop_df['crop_growth_stage'] == growth_stage)]\n",
        "\n",
        "    if len(crop_data) == 0:\n",
        "        return \"Crop information not found.\"\n",
        "\n",
        "    # Calculate the average for numeric columns and mode for categorical columns\n",
        "    crop_nutrients = crop_data.drop(['crop_id', 'crop_name', 'crop_growth_stage', 'crop_type'], axis=1).apply(\n",
        "        lambda x: mode(x) if x.dtype == 'O' else x.mean(), axis=0)\n",
        "\n",
        "    # Define nutrient columns\n",
        "    nutrient_columns = ['fert_nitrogen', 'fert_phosphorus', 'fert_potassium', 'fert_calcium', 'fert_magnesium', 'fert_sulfur',\n",
        "                        'fert_copper', 'fert_chlorine', 'fert_boron', 'fert_iron', 'fert_zinc', 'fert_manganese',\n",
        "                        'fert_molybdenum', 'fert_nickel', 'fert_cobalt', 'fert_sodium']\n",
        "\n",
        "    # Calculate nutrient deficits\n",
        "    deficits = {}\n",
        "    for nutrient in nutrient_columns:\n",
        "        crop_requirement = crop_nutrients.get(nutrient, 0)\n",
        "        water_level = water_quality.get(nutrient.split('_')[1], 0)\n",
        "        deficit = max(0, crop_requirement - water_level)\n",
        "        if deficit > 0:\n",
        "            deficits[nutrient] = deficit\n",
        "\n",
        "    # If no deficits, return no fertilizer needed\n",
        "    if not deficits:\n",
        "        return \"No fertilizer needed. Water quality meets all nutrient requirements.\"\n",
        "\n",
        "    # Handle missing values in fertilizer dataset\n",
        "    fertilizer_df.fillna(0, inplace=True)\n",
        "\n",
        "    # Find fertilizers to meet the deficits\n",
        "    recommended_fertilizers = []\n",
        "    for nutrient, deficit in deficits.items():\n",
        "        fert_candidates = fertilizer_df[fertilizer_df[nutrient] > 0]\n",
        "        fert_candidates['contribution'] = fert_candidates[nutrient]\n",
        "        fert_candidates = fert_candidates.sort_values(by='contribution', ascending=False)\n",
        "\n",
        "        total_contribution = 0\n",
        "        fert_combination = []\n",
        "        for _, fert in fert_candidates.iterrows():\n",
        "            if total_contribution >= deficit:\n",
        "                break\n",
        "            fert_combination.append(fert)\n",
        "            total_contribution += fert[nutrient]\n",
        "\n",
        "        for fert in fert_combination:\n",
        "            recommended_fertilizers.append({\n",
        "                'fert_id': fert['fert_id'],\n",
        "                'fert_name': fert['fert_name'],\n",
        "                'fert_toxicity': fert['fert_toxicity'],\n",
        "                'fert_solubility': fert['fert_solubility'],\n",
        "                'fert_temp': fert['fert_temp'],\n",
        "                'fert_role': fert['fert_role'],\n",
        "                'fert_remark': fert['fert_remark'],\n",
        "                'quantity_KG_per_1000L': random.randint(100, 40000) / 1000\n",
        "            })\n",
        "\n",
        "    # Convert to DataFrame\n",
        "    recommended_fertilizers_df = pd.DataFrame(recommended_fertilizers)\n",
        "\n",
        "    # Save to CSV\n",
        "    recommended_fertilizers_df.to_csv('recommended_fertilizers.csv', index=False)\n",
        "\n",
        "# Example usage:\n",
        "crop_name_input = \"baylaurel\"\n",
        "growth_stage_input = \"vegetative\"\n",
        "water_quality_input = {\n",
        "    'ph': 6.5,\n",
        "    'temp': 25,\n",
        "    'ec': 1.2,\n",
        "    'nitrogen': 100,\n",
        "    'phosphorus': 50,\n",
        "    'potassium': 150,\n",
        "    'calcium': 80,\n",
        "    'magnesium': 30,\n",
        "    'sulfur': 20,\n",
        "    'copper': 0.5,\n",
        "    'chlorine': 10,\n",
        "    'boron': 0.3,\n",
        "    'iron': 1.0,\n",
        "    'zinc': 0.1,\n",
        "    'manganese': 0.05,\n",
        "    'molybdenum': 0.02,\n",
        "    'nickel': 0.01,\n",
        "    'cobalt': 0.01,\n",
        "    'sodium': 5\n",
        "}\n",
        "\n",
        "recommend_fertilizers(crop_name_input, growth_stage_input, water_quality_input)"
      ]
    }
  ],
  "metadata": {
    "colab": {
      "provenance": []
    },
    "kernelspec": {
      "display_name": "Python 3",
      "language": "python",
      "name": "python3"
    },
    "language_info": {
      "codemirror_mode": {
        "name": "ipython",
        "version": 3
      },
      "file_extension": ".py",
      "mimetype": "text/x-python",
      "name": "python",
      "nbconvert_exporter": "python",
      "pygments_lexer": "ipython3",
      "version": "3.8.5"
    }
  },
  "nbformat": 4,
  "nbformat_minor": 0
}
