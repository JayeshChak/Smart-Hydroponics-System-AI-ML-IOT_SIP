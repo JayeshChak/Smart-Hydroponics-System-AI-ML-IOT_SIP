{
  "cells": [
    {
      "cell_type": "code",
      "execution_count": null,
      "metadata": {
        "colab": {
          "base_uri": "https://localhost:8080/"
        },
        "id": "pqlkCL3HJXzX",
        "outputId": "d95bf56d-b7dc-4548-8e6a-90f8b086fb63"
      },
      "outputs": [
        {
          "name": "stdout",
          "output_type": "stream",
          "text": [
            "      crop_id      crop_name   distance\n",
            "541       541     cantaloupe  18.700897\n",
            "18         18       aloevera  18.850809\n",
            "2631     2631  passionflower  19.229170\n",
            "3573     3573         tatsoi  19.576926\n",
            "3379     3379        spinach  19.599782\n"
          ]
        }
      ],
      "source": [
        "import pandas as pd\n",
        "from sklearn.cluster import KMeans\n",
        "from sklearn.preprocessing import StandardScaler\n",
        "import numpy as np\n",
        "\n",
        "# Load the dataset\n",
        "df = pd.read_csv('/content/pro_crop_data.csv')\n",
        "\n",
        "# Select relevant features for clustering\n",
        "features = [\n",
        "    'crop_temp', 'crop_humidity', 'crop_ph', 'crop_nitrogen', 'crop_phosphorus',\n",
        "    'crop_potassium', 'crop_calcium', 'crop_magnesium'\n",
        "]\n",
        "\n",
        "X = df[features]\n",
        "\n",
        "# Normalize the data\n",
        "scaler = StandardScaler()\n",
        "X_scaled = scaler.fit_transform(X)\n",
        "\n",
        "# Train K-means clustering model\n",
        "n_clusters = 5  # Adjust the number of clusters (n_clusters) as needed\n",
        "kmeans = KMeans(n_clusters=n_clusters, random_state=42)\n",
        "kmeans.fit(X_scaled)\n",
        "\n",
        "# Function to predict suitable crop\n",
        "def predict_crop(water_quality):\n",
        "    # Scale the input water quality parameters\n",
        "    water_quality_scaled = scaler.transform([water_quality])\n",
        "\n",
        "    # Predict the cluster\n",
        "    cluster = kmeans.predict(water_quality_scaled)[0]\n",
        "\n",
        "    # Get crops in the same cluster\n",
        "    cluster_indices = np.where(kmeans.labels_ == cluster)[0]\n",
        "    cluster_crops = df.iloc[cluster_indices]\n",
        "\n",
        "    # Calculate the Euclidean distance between the input and crops in the cluster\n",
        "    cluster_features_scaled = X_scaled[cluster_indices]\n",
        "    distances = np.linalg.norm(cluster_features_scaled - water_quality_scaled, axis=1)\n",
        "\n",
        "    # Add distances to the dataframe and sort by distance\n",
        "    cluster_crops['distance'] = distances\n",
        "    top_crops = cluster_crops.sort_values(by='distance').head(5)\n",
        "\n",
        "    return top_crops[['crop_id', 'crop_name', 'distance']]\n",
        "\n",
        "# Example water quality data input\n",
        "water_quality_input = [35.23, 552.50, 9.80, 70.75, 20.45, 9.92, 3.10, 0.21]\n",
        "\n",
        "# Predict suitable crops\n",
        "suitable_crops = predict_crop(water_quality_input)\n",
        "print(suitable_crops)\n"
      ]
    },
    {
      "cell_type": "markdown",
      "metadata": {
        "id": "DkCVOmWq37Dh"
      },
      "source": [
        "### Seperating features and target label"
      ]
    },
    {
      "cell_type": "code",
      "execution_count": null,
      "metadata": {
        "id": "ENMBJ9G337Di"
      },
      "outputs": [],
      "source": [
        "features = df[['crop_temp','crop_ph',\n",
        "       'crop_nitrogen', 'crop_phosphorus', 'crop_potassium', 'crop_calcium',\n",
        "       'crop_magnesium','crop_ec']]\n",
        "target = df['crop_name']\n",
        "#features = df[['temperature', 'humidity', 'ph', 'rainfall']]\n",
        "labels = df['crop_name']"
      ]
    },
    {
      "cell_type": "code",
      "execution_count": null,
      "metadata": {
        "id": "9UbY1eW337Di"
      },
      "outputs": [],
      "source": [
        "# Initialzing empty lists to append all model's name and corresponding name\n",
        "acc = []\n",
        "model = []"
      ]
    },
    {
      "cell_type": "code",
      "execution_count": null,
      "metadata": {
        "id": "qTIKkfT237Di"
      },
      "outputs": [],
      "source": [
        "# Splitting into train and test data\n",
        "\n",
        "from sklearn.model_selection import train_test_split\n",
        "Xtrain, Xtest, Ytrain, Ytest = train_test_split(features,target,test_size = 0.1,random_state =128)"
      ]
    },
    {
      "cell_type": "markdown",
      "metadata": {
        "id": "xZ2zYDlg37Dj"
      },
      "source": [
        "# Decision Tree"
      ]
    },
    {
      "cell_type": "code",
      "execution_count": null,
      "metadata": {
        "colab": {
          "base_uri": "https://localhost:8080/"
        },
        "id": "bdbNLXjT37Dj",
        "outputId": "e9d204b2-cad2-4d4d-b315-9568c9c4c8cb"
      },
      "outputs": [
        {
          "name": "stdout",
          "output_type": "stream",
          "text": [
            "DecisionTrees's Accuracy is:  0.9950248756218906\n",
            "                         precision    recall  f1-score   support\n",
            "\n",
            "               aloevera       0.00      0.00      0.00         1\n",
            "      armeniancucumbers       0.00      0.00      0.00         4\n",
            "                arugula       0.00      0.00      0.00         0\n",
            "            ashwagandha       0.00      0.00      0.00         2\n",
            "           babyeggplant       0.00      0.00      0.00         2\n",
            "            babyspinach       0.00      0.00      0.00         2\n",
            "              baylaurel       0.00      0.00      0.00         2\n",
            "                bayleaf       0.00      0.00      0.00         1\n",
            "      beefsteaktomatoes       0.00      0.00      0.00         2\n",
            "             beetgreens       0.00      0.00      0.00         2\n",
            "               beetroot       0.00      0.00      0.00         1\n",
            "               bergamot       0.00      0.00      0.00         4\n",
            "  bibbbutterheadlettuce       0.00      0.00      0.00         2\n",
            "           blackberries       0.00      0.00      0.00         4\n",
            "            blackpepper       0.00      0.00      0.00         3\n",
            "            blueberries       0.00      0.00      0.00         1\n",
            "                bokchoy       0.00      0.00      0.00         1\n",
            "                 borage       0.00      0.00      0.00         0\n",
            "bostonbutterheadlettuce       0.00      0.00      0.00         3\n",
            "        brusselssprouts       0.00      0.00      0.00         4\n",
            "                cabbage       0.01      1.00      0.02         2\n",
            "              calendula       0.00      0.00      0.00         4\n",
            "           canarymelons       0.00      0.00      0.00         3\n",
            "             cantaloupe       0.00      0.00      0.00         1\n",
            "               capsicum       0.00      0.00      0.00         1\n",
            "               cardamom       0.00      0.00      0.00         3\n",
            "                 carrot       0.00      0.00      0.00         2\n",
            "                 catnip       0.00      0.00      0.00         3\n",
            "            cauliflower       0.00      0.00      0.00         6\n",
            "                 celery       0.00      0.00      0.00         0\n",
            "              chamomile       0.00      0.00      0.00         2\n",
            "      chestnutmushrooms       0.00      0.00      0.00         3\n",
            "        chinesebroccoli       0.00      0.00      0.00         1\n",
            "          chioggiabeets       0.00      0.00      0.00         4\n",
            "                 chives       0.00      0.00      0.00         3\n",
            "          chocolatemint       0.00      0.00      0.00         1\n",
            "               cilantro       0.00      0.00      0.00         3\n",
            "               cinnamon       0.00      0.00      0.00         3\n",
            "                  clove       0.00      0.00      0.00         3\n",
            "          colocasiaroot       0.00      0.00      0.00         3\n",
            "         coralmushrooms       0.00      0.00      0.00         3\n",
            "              coriander       0.00      0.00      0.00         1\n",
            "          corianderleaf       0.00      0.00      0.00         3\n",
            "       creminimushrooms       0.00      0.00      0.00         1\n",
            "              cucamelon       0.00      0.00      0.00         1\n",
            "     cucumisutilissimus       0.00      0.00      0.00         4\n",
            "              curlykale       0.00      0.00      0.00         5\n",
            "           curlyparsley       0.00      0.00      0.00         2\n",
            "         daikonradishes       0.00      0.00      0.00         3\n",
            "               dianthus       0.00      0.00      0.00         2\n",
            "                   dill       0.00      0.00      0.00         3\n",
            "              echinacea       0.00      0.00      0.00         2\n",
            "                 endive       0.00      0.00      0.00         1\n",
            "englishseedlesscucumber       0.00      0.00      0.00         4\n",
            "         enokimushrooms       0.00      0.00      0.00         2\n",
            "                 fennel       0.00      0.00      0.00         4\n",
            "              fenugreek       0.00      0.00      0.00         1\n",
            "        fenugreekleaves       0.00      0.00      0.00         2\n",
            "               feverfew       0.00      0.00      0.00         1\n",
            "        flatleafparsley       0.00      0.00      0.00         1\n",
            "            frenchbeans       0.00      0.00      0.00         1\n",
            "frenchbreakfastradishes       0.00      0.00      0.00         3\n",
            "           frenchsorrel       0.00      0.00      0.00         3\n",
            "            frenchthyme       0.00      0.00      0.00         2\n",
            "    friseemustardgreens       0.00      0.00      0.00         3\n",
            "                 gailan       0.00      0.00      0.00         1\n",
            "             galiamelon       0.00      0.00      0.00         2\n",
            "                 ginger       0.00      0.00      0.00         3\n",
            "                ginseng       0.00      0.00      0.00         7\n",
            "            goldenbeets       0.00      0.00      0.00         2\n",
            "                 grapes       0.00      0.00      0.00         0\n",
            "       greenbellpeppers       0.00      0.00      0.00         4\n",
            "         greenbushbeans       0.00      0.00      0.00         3\n",
            "    greencherrytomatoes       0.00      0.00      0.00         4\n",
            "       greenleaflettuce       0.00      0.00      0.00         2\n",
            "               habanero       0.00      0.00      0.00         1\n",
            "               hibiscus       0.00      0.00      0.00         1\n",
            "          honeydewmelon       0.00      0.00      0.00         3\n",
            "                   hops       0.00      0.00      0.00         1\n",
            "           huskcherries       0.00      0.00      0.00         1\n",
            "         iceberglettuce       0.00      0.00      0.00         4\n",
            "                 indigo       0.00      0.00      0.00         2\n",
            "               jalapeno       0.00      0.00      0.00         2\n",
            "       japaneseeggplant       0.00      0.00      0.00         1\n",
            "    jerusalemartichokes       0.33      0.20      0.25         5\n",
            "    kingoystermushrooms       0.00      0.00      0.00         5\n",
            "         kirbycucumbers       0.00      0.00      0.00         3\n",
            "                   kiwi       0.00      0.00      0.00         3\n",
            "               kohlrabi       0.00      0.00      0.00         1\n",
            "           lacinatokale       0.00      0.00      0.00         3\n",
            "           lady'sfinger       0.00      0.00      0.00         2\n",
            "               lavender       0.00      0.00      0.00         3\n",
            "         lavendercotton       0.00      0.00      0.00         1\n",
            "              lemonbalm       0.00      0.00      0.00         2\n",
            "             lemongrass       0.00      0.00      0.00         2\n",
            "    lion'smanemushrooms       0.00      0.00      0.00         5\n",
            "      lollorossolettuce       0.00      0.00      0.00         2\n",
            "                 lovage       0.00      0.00      0.00         3\n",
            "             luffagourd       0.00      0.00      0.00         1\n",
            "                   maca       0.00      0.00      0.00         3\n",
            "                  mache       0.00      0.00      0.00         3\n",
            "       maitakemushrooms       0.00      0.00      0.00         2\n",
            "         malabarspinach       0.00      0.00      0.00         3\n",
            "              marigolds       0.00      0.00      0.00         3\n",
            "               marjoram       0.00      0.00      0.00         3\n",
            "          minicucumbers       0.00      0.00      0.00         1\n",
            "         miniwatermelon       0.00      0.00      0.00         2\n",
            "                 mizuna       0.00      0.00      0.00         2\n",
            "           mustardseeds       0.00      0.00      0.00         2\n",
            "      nasturtiumsflower       0.00      0.00      0.00         1\n",
            "                nigella       0.00      0.00      0.00         2\n",
            "                   okra       0.00      0.00      0.00         2\n",
            "                oregano       0.00      0.00      0.00         2\n",
            "                pakchoi       0.00      0.00      0.00         2\n",
            "                pansies       0.00      0.00      0.00         1\n",
            "               parsnips       0.00      0.00      0.00         3\n",
            "          passionflower       0.00      0.00      0.00         1\n",
            "              patchouli       0.00      0.00      0.00         2\n",
            "            pepinomelon       0.00      0.00      0.00         2\n",
            "             peppermint       0.00      0.00      0.00         3\n",
            "       persiancucumbers       0.00      0.00      0.00         1\n",
            "    pinkoystermushrooms       0.00      0.00      0.00         6\n",
            "      pioppinomushrooms       0.00      0.00      0.00         3\n",
            "           plumtomatoes       0.00      0.00      0.00         3\n",
            "           pointedgourd       0.00      0.00      0.00         1\n",
            "                 potato       0.00      0.00      0.00         2\n",
            "              radicchio       0.00      0.00      0.00         1\n",
            "                 radish       0.00      0.00      0.00         3\n",
            "         redbellpeppers       0.00      0.00      0.00         6\n",
            "      redcherrytomatoes       0.00      0.00      0.00         1\n",
            "               redchili       0.00      0.00      0.00         2\n",
            "       redmustardgreens       0.00      0.00      0.00         1\n",
            "      redromainelettuce       0.00      0.00      0.00         2\n",
            "              rockmelon       0.00      0.00      0.00         4\n",
            "         romainelettuce       0.00      0.00      0.00         2\n",
            "      romanescobroccoli       0.00      0.00      0.00         2\n",
            "           romatomatoes       0.00      0.00      0.00         5\n",
            "               rosemary       0.00      0.00      0.00         1\n",
            "               rutabaga       0.00      0.00      0.00         3\n",
            "                saffron       0.00      0.00      0.00         1\n",
            "                   sage       0.00      0.00      0.00         3\n",
            "                salsify       0.00      0.00      0.00         1\n",
            "             scorzonera       0.00      0.00      0.00         2\n",
            "      shiitakemushrooms       0.00      0.00      0.00         2\n",
            "                  shiso       0.00      0.00      0.00         1\n",
            "           snapbushpeas       0.00      0.00      0.00         5\n",
            "               snowpeas       0.00      0.00      0.00         4\n",
            "                 sorrel       0.00      0.00      0.00         3\n",
            "              spearmint       0.00      0.00      0.00         4\n",
            "                spinach       0.00      0.00      0.00         3\n",
            "            spongegourd       0.00      0.00      0.00         1\n",
            "                 stevia       0.00      0.00      0.00         2\n",
            "           strawberries       0.00      0.00      0.00         1\n",
            "          sugarsnappeas       0.00      0.00      0.00         1\n",
            "             sweetbasil       0.00      0.00      0.00         1\n",
            "            sweetpotato       0.00      0.00      0.00         1\n",
            "                 tatsoi       0.00      0.00      0.00         5\n",
            "                teatree       0.05      1.00      0.10         1\n",
            "              thaibasil       0.00      0.00      0.00         3\n",
            "             tomatillos       0.00      0.00      0.00         2\n",
            "               turmeric       0.00      0.00      0.00         4\n",
            "                 turnip       0.00      0.00      0.00         3\n",
            "                turnips       0.00      0.00      0.00         2\n",
            "            uplandcress       0.00      0.00      0.00         2\n",
            "                 violas       0.00      0.00      0.00         1\n",
            "                violets       0.00      0.00      0.00         0\n",
            "                 wasabi       0.00      0.00      0.00         1\n",
            "             watercress       0.00      0.00      0.00         1\n",
            "               waxgourd       0.00      0.00      0.00         3\n",
            "   whitebuttonmushrooms       0.00      0.00      0.00         3\n",
            "             witchhazel       0.00      0.00      0.00         2\n",
            "      yellowbellpeppers       0.00      0.00      0.00         1\n",
            "   yellowcherrytomatoes       0.00      0.00      0.00         1\n",
            "           yellowsquash       0.00      0.00      0.00         2\n",
            "\n",
            "               accuracy                           0.01       402\n",
            "              macro avg       0.00      0.01      0.00       402\n",
            "           weighted avg       0.00      0.01      0.00       402\n",
            "\n"
          ]
        }
      ],
      "source": [
        "from sklearn.tree import DecisionTreeClassifier\n",
        "\n",
        "DecisionTree = DecisionTreeClassifier(criterion=\"entropy\",random_state=128,max_depth=5)\n",
        "\n",
        "DecisionTree.fit(Xtrain,Ytrain)\n",
        "\n",
        "predicted_values = DecisionTree.predict(Xtest)\n",
        "x = metrics.accuracy_score(Ytest, predicted_values)\n",
        "acc.append(x)\n",
        "model.append('Decision Tree')\n",
        "print(\"DecisionTrees's Accuracy is: \", x*100)\n",
        "\n",
        "print(classification_report(Ytest,predicted_values))"
      ]
    },
    {
      "cell_type": "code",
      "execution_count": null,
      "metadata": {
        "id": "GPGHz3NP37Dj"
      },
      "outputs": [],
      "source": [
        "from sklearn.model_selection import cross_val_score"
      ]
    },
    {
      "cell_type": "code",
      "execution_count": null,
      "metadata": {
        "id": "iS6nMhS737Dj"
      },
      "outputs": [],
      "source": [
        "# Cross validation score (Decision Tree)\n",
        "score = cross_val_score(DecisionTree, features, target,cv=5)"
      ]
    },
    {
      "cell_type": "code",
      "execution_count": null,
      "metadata": {
        "colab": {
          "base_uri": "https://localhost:8080/"
        },
        "id": "b3vFyPZU37Dj",
        "outputId": "41ae6433-d2dd-44df-aff6-c383f1575744"
      },
      "outputs": [
        {
          "data": {
            "text/plain": [
              "array([0.00622665, 0.00872818, 0.00374065, 0.00997506, 0.00623441])"
            ]
          },
          "execution_count": 80,
          "metadata": {},
          "output_type": "execute_result"
        }
      ],
      "source": [
        "score"
      ]
    },
    {
      "cell_type": "markdown",
      "metadata": {
        "id": "IEsmCdBK37Dj"
      },
      "source": [
        "### Saving trained Decision Tree model"
      ]
    },
    {
      "cell_type": "code",
      "execution_count": null,
      "metadata": {
        "id": "UFCyCJPw37Dk"
      },
      "outputs": [],
      "source": [
        "import pickle\n",
        "# Dump the trained Naive Bayes classifier with Pickle\n",
        "DT_pkl_filename = '../models/DecisionTree.pkl'\n",
        "# Open the file to save as pkl file\n",
        "DT_Model_pkl = open(DT_pkl_filename, 'wb')\n",
        "pickle.dump(DecisionTree, DT_Model_pkl)\n",
        "# Close the pickle instances\n",
        "DT_Model_pkl.close()"
      ]
    },
    {
      "cell_type": "markdown",
      "metadata": {
        "id": "OAgZ3KVG37Dk"
      },
      "source": [
        "# Guassian Naive Bayes"
      ]
    },
    {
      "cell_type": "code",
      "execution_count": null,
      "metadata": {
        "colab": {
          "base_uri": "https://localhost:8080/"
        },
        "id": "Fyf0eY0s37Dk",
        "outputId": "303d89de-2825-46d4-87bb-fc4d54b7e98c"
      },
      "outputs": [
        {
          "name": "stdout",
          "output_type": "stream",
          "text": [
            "Naive Bayes's Accuracy is:  0.004975124378109453\n",
            "                         precision    recall  f1-score   support\n",
            "\n",
            "               aloevera       0.00      0.00      0.00         1\n",
            "      armeniancucumbers       0.00      0.00      0.00         4\n",
            "                arugula       0.00      0.00      0.00         0\n",
            "            ashwagandha       0.00      0.00      0.00         2\n",
            "           babyeggplant       0.00      0.00      0.00         2\n",
            "            babyspinach       0.00      0.00      0.00         2\n",
            "              baylaurel       0.00      0.00      0.00         2\n",
            "                bayleaf       0.00      0.00      0.00         1\n",
            "      beefsteaktomatoes       0.14      0.50      0.22         2\n",
            "             beetgreens       0.00      0.00      0.00         2\n",
            "               beetroot       0.00      0.00      0.00         1\n",
            "               bergamot       0.00      0.00      0.00         4\n",
            "  bibbbutterheadlettuce       0.00      0.00      0.00         2\n",
            "           blackberries       0.00      0.00      0.00         4\n",
            "            blackpepper       0.00      0.00      0.00         3\n",
            "            blueberries       0.00      0.00      0.00         1\n",
            "                bokchoy       0.00      0.00      0.00         1\n",
            "                 borage       0.00      0.00      0.00         0\n",
            "bostonbutterheadlettuce       0.00      0.00      0.00         3\n",
            "        brusselssprouts       0.00      0.00      0.00         4\n",
            "                cabbage       0.00      0.00      0.00         2\n",
            "      calabresebroccoli       0.00      0.00      0.00         0\n",
            "              calendula       0.00      0.00      0.00         4\n",
            "           canarymelons       0.00      0.00      0.00         3\n",
            "             cantaloupe       0.00      0.00      0.00         1\n",
            "               capsicum       0.00      0.00      0.00         1\n",
            "               cardamom       0.00      0.00      0.00         3\n",
            "                 carrot       0.00      0.00      0.00         2\n",
            "                 catnip       0.00      0.00      0.00         3\n",
            "            cauliflower       0.00      0.00      0.00         6\n",
            "              chamomile       0.00      0.00      0.00         2\n",
            "      chestnutmushrooms       0.00      0.00      0.00         3\n",
            "        chinesebroccoli       0.00      0.00      0.00         1\n",
            "          chioggiabeets       0.00      0.00      0.00         4\n",
            "                 chives       0.00      0.00      0.00         3\n",
            "          chocolatemint       0.00      0.00      0.00         1\n",
            "               cilantro       0.00      0.00      0.00         3\n",
            "               cinnamon       0.00      0.00      0.00         3\n",
            "                  clove       0.00      0.00      0.00         3\n",
            "          colocasiaroot       0.00      0.00      0.00         3\n",
            "         coralmushrooms       0.00      0.00      0.00         3\n",
            "              coriander       0.00      0.00      0.00         1\n",
            "          corianderleaf       0.00      0.00      0.00         3\n",
            "       creminimushrooms       0.00      0.00      0.00         1\n",
            "              cucamelon       0.00      0.00      0.00         1\n",
            "     cucumisutilissimus       0.00      0.00      0.00         4\n",
            "              curlykale       0.00      0.00      0.00         5\n",
            "           curlyparsley       0.00      0.00      0.00         2\n",
            "         daikonradishes       0.00      0.00      0.00         3\n",
            "              daylilies       0.00      0.00      0.00         0\n",
            "               dianthus       0.00      0.00      0.00         2\n",
            "                   dill       0.00      0.00      0.00         3\n",
            "              echinacea       0.00      0.00      0.00         2\n",
            "                 endive       0.00      0.00      0.00         1\n",
            "englishseedlesscucumber       0.00      0.00      0.00         4\n",
            "         enokimushrooms       0.00      0.00      0.00         2\n",
            "                 fennel       0.00      0.00      0.00         4\n",
            "              fenugreek       0.00      0.00      0.00         1\n",
            "        fenugreekleaves       0.00      0.00      0.00         2\n",
            "               feverfew       0.00      0.00      0.00         1\n",
            "        flatleafparsley       0.00      0.00      0.00         1\n",
            "            frenchbeans       0.00      0.00      0.00         1\n",
            "frenchbreakfastradishes       0.00      0.00      0.00         3\n",
            "           frenchsorrel       0.00      0.00      0.00         3\n",
            "            frenchthyme       0.00      0.00      0.00         2\n",
            "    friseemustardgreens       0.00      0.00      0.00         3\n",
            "                 gailan       0.00      0.00      0.00         1\n",
            "             galiamelon       0.00      0.00      0.00         2\n",
            "                 ginger       0.00      0.00      0.00         3\n",
            "                ginseng       0.00      0.00      0.00         7\n",
            "            goldenbeets       0.00      0.00      0.00         2\n",
            "                 grapes       0.00      0.00      0.00         0\n",
            "       greenbellpeppers       0.00      0.00      0.00         4\n",
            "         greenbushbeans       0.00      0.00      0.00         3\n",
            "    greencherrytomatoes       0.00      0.00      0.00         4\n",
            "             greenchili       0.00      0.00      0.00         0\n",
            "       greenleaflettuce       0.00      0.00      0.00         2\n",
            "         groundcherries       0.00      0.00      0.00         0\n",
            "               habanero       0.00      0.00      0.00         1\n",
            "               hibiscus       0.00      0.00      0.00         1\n",
            "          honeydewmelon       0.00      0.00      0.00         3\n",
            "                   hops       0.00      0.00      0.00         1\n",
            "           huskcherries       0.00      0.00      0.00         1\n",
            "         iceberglettuce       0.00      0.00      0.00         4\n",
            "                 indigo       0.00      0.00      0.00         2\n",
            "               jalapeno       0.00      0.00      0.00         2\n",
            "       japaneseeggplant       0.00      0.00      0.00         1\n",
            "    jerusalemartichokes       0.00      0.00      0.00         5\n",
            "    kingoystermushrooms       0.00      0.00      0.00         5\n",
            "         kirbycucumbers       0.00      0.00      0.00         3\n",
            "                   kiwi       0.00      0.00      0.00         3\n",
            "               kohlrabi       0.00      0.00      0.00         1\n",
            "           lacinatokale       0.00      0.00      0.00         3\n",
            "           lady'sfinger       0.00      0.00      0.00         2\n",
            "               lavender       0.00      0.00      0.00         3\n",
            "         lavendercotton       0.00      0.00      0.00         1\n",
            "              lemonbalm       0.00      0.00      0.00         2\n",
            "             lemonbasil       0.00      0.00      0.00         0\n",
            "             lemongrass       0.00      0.00      0.00         2\n",
            "             lemonthyme       0.00      0.00      0.00         0\n",
            "    lion'smanemushrooms       0.00      0.00      0.00         5\n",
            "      lollorossolettuce       0.00      0.00      0.00         2\n",
            "                 lovage       0.00      0.00      0.00         3\n",
            "             luffagourd       0.00      0.00      0.00         1\n",
            "                   maca       0.00      0.00      0.00         3\n",
            "                  mache       0.00      0.00      0.00         3\n",
            "       maitakemushrooms       0.00      0.00      0.00         2\n",
            "         malabarspinach       0.00      0.00      0.00         3\n",
            "              marigolds       0.00      0.00      0.00         3\n",
            "               marjoram       0.00      0.00      0.00         3\n",
            "          minicucumbers       0.00      0.00      0.00         1\n",
            "         miniwatermelon       0.00      0.00      0.00         2\n",
            "                 mizuna       0.00      0.00      0.00         2\n",
            "              muskmelon       0.00      0.00      0.00         0\n",
            "           mustardseeds       0.00      0.00      0.00         2\n",
            "      nasturtiumsflower       0.00      0.00      0.00         1\n",
            "                nigella       0.00      0.00      0.00         2\n",
            "                   okra       0.00      0.00      0.00         2\n",
            "                oregano       0.00      0.00      0.00         2\n",
            "                pakchoi       0.00      0.00      0.00         2\n",
            "                pansies       0.00      0.00      0.00         1\n",
            "               parsnips       0.00      0.00      0.00         3\n",
            "          passionflower       0.00      0.00      0.00         1\n",
            "              patchouli       0.00      0.00      0.00         2\n",
            "            pepinomelon       0.00      0.00      0.00         2\n",
            "             peppermint       0.00      0.00      0.00         3\n",
            "       persiancucumbers       0.00      0.00      0.00         1\n",
            "    pinkoystermushrooms       0.00      0.00      0.00         6\n",
            "      pioppinomushrooms       0.00      0.00      0.00         3\n",
            "           plumtomatoes       0.00      0.00      0.00         3\n",
            "           pointedgourd       0.00      0.00      0.00         1\n",
            "                 potato       0.00      0.00      0.00         2\n",
            "              radicchio       0.00      0.00      0.00         1\n",
            "                 radish       0.00      0.00      0.00         3\n",
            "            raspberries       0.00      0.00      0.00         0\n",
            "         redbellpeppers       0.00      0.00      0.00         6\n",
            "      redcherrytomatoes       0.00      0.00      0.00         1\n",
            "               redchili       0.00      0.00      0.00         2\n",
            "       redmustardgreens       0.00      0.00      0.00         1\n",
            "      redromainelettuce       0.00      0.00      0.00         2\n",
            "              rockmelon       0.00      0.00      0.00         4\n",
            "         romainelettuce       0.00      0.00      0.00         2\n",
            "      romanescobroccoli       0.00      0.00      0.00         2\n",
            "           romatomatoes       0.00      0.00      0.00         5\n",
            "               rosemary       0.00      0.00      0.00         1\n",
            "               rutabaga       0.00      0.00      0.00         3\n",
            "                saffron       0.00      0.00      0.00         1\n",
            "                   sage       0.00      0.00      0.00         3\n",
            "                salsify       0.00      0.00      0.00         1\n",
            "             scorzonera       0.00      0.00      0.00         2\n",
            "      shiitakemushrooms       0.00      0.00      0.00         2\n",
            "                  shiso       0.00      0.00      0.00         1\n",
            "           snapbushpeas       0.00      0.00      0.00         5\n",
            "               snowpeas       0.00      0.00      0.00         4\n",
            "                 sorrel       0.00      0.00      0.00         3\n",
            "              spearmint       0.00      0.00      0.00         4\n",
            "                spinach       0.00      0.00      0.00         3\n",
            "            spongegourd       0.00      0.00      0.00         1\n",
            "                 stevia       0.00      0.00      0.00         2\n",
            "           strawberries       0.00      0.00      0.00         1\n",
            "          sugarsnappeas       0.00      0.00      0.00         1\n",
            "             sweetbasil       0.00      0.00      0.00         1\n",
            "            sweetpotato       0.00      0.00      0.00         1\n",
            "             swisschard       0.00      0.00      0.00         0\n",
            "                   taro       0.00      0.00      0.00         0\n",
            "               tarragon       0.00      0.00      0.00         0\n",
            "                 tatsoi       0.00      0.00      0.00         5\n",
            "                teatree       0.00      0.00      0.00         1\n",
            "                 tendli       0.00      0.00      0.00         0\n",
            "              thaibasil       1.00      0.33      0.50         3\n",
            "             tomatillos       0.00      0.00      0.00         2\n",
            "               turmeric       0.00      0.00      0.00         4\n",
            "                 turnip       0.00      0.00      0.00         3\n",
            "                turnips       0.00      0.00      0.00         2\n",
            "            uplandcress       0.00      0.00      0.00         2\n",
            "                 violas       0.00      0.00      0.00         1\n",
            "                 wasabi       0.00      0.00      0.00         1\n",
            "             watercress       0.00      0.00      0.00         1\n",
            "             watermelon       0.00      0.00      0.00         0\n",
            "               waxgourd       0.00      0.00      0.00         3\n",
            "   whitebuttonmushrooms       0.00      0.00      0.00         3\n",
            "             witchhazel       0.00      0.00      0.00         2\n",
            "      yellowbellpeppers       0.00      0.00      0.00         1\n",
            "   yellowcherrytomatoes       0.00      0.00      0.00         1\n",
            "           yellowsquash       0.00      0.00      0.00         2\n",
            "               zucchini       0.00      0.00      0.00         0\n",
            "\n",
            "               accuracy                           0.00       402\n",
            "              macro avg       0.01      0.00      0.00       402\n",
            "           weighted avg       0.01      0.00      0.00       402\n",
            "\n"
          ]
        }
      ],
      "source": [
        "from sklearn.naive_bayes import GaussianNB\n",
        "\n",
        "NaiveBayes = GaussianNB()\n",
        "\n",
        "NaiveBayes.fit(Xtrain,Ytrain)\n",
        "\n",
        "predicted_values = NaiveBayes.predict(Xtest)\n",
        "x = metrics.accuracy_score(Ytest, predicted_values)\n",
        "acc.append(x)\n",
        "model.append('Naive Bayes')\n",
        "print(\"Naive Bayes's Accuracy is: \", x)\n",
        "\n",
        "print(classification_report(Ytest,predicted_values))"
      ]
    },
    {
      "cell_type": "code",
      "execution_count": null,
      "metadata": {
        "colab": {
          "base_uri": "https://localhost:8080/"
        },
        "id": "rwCkAFXM37Dk",
        "outputId": "161a91e3-34f4-4144-a7a4-adea530638b1"
      },
      "outputs": [
        {
          "data": {
            "text/plain": [
              "array([0.00373599, 0.00498753, 0.00124688, 0.00374065, 0.00872818])"
            ]
          },
          "execution_count": 82,
          "metadata": {},
          "output_type": "execute_result"
        }
      ],
      "source": [
        "# Cross validation score (NaiveBayes)\n",
        "score = cross_val_score(NaiveBayes,features,target,cv=5)\n",
        "score"
      ]
    },
    {
      "cell_type": "markdown",
      "metadata": {
        "id": "OB2UT-pz37Dk"
      },
      "source": [
        "### Saving trained Guassian Naive Bayes model"
      ]
    },
    {
      "cell_type": "code",
      "execution_count": null,
      "metadata": {
        "id": "rdZQkNYk37Dk"
      },
      "outputs": [],
      "source": [
        "import pickle\n",
        "# Dump the trained Naive Bayes classifier with Pickle\n",
        "NB_pkl_filename = '../models/NBClassifier.pkl'\n",
        "# Open the file to save as pkl file\n",
        "NB_Model_pkl = open(NB_pkl_filename, 'wb')\n",
        "pickle.dump(NaiveBayes, NB_Model_pkl)\n",
        "# Close the pickle instances\n",
        "NB_Model_pkl.close()"
      ]
    },
    {
      "cell_type": "markdown",
      "metadata": {
        "id": "LbBOrpvg37Dk"
      },
      "source": [
        "# Support Vector Machine (SVM)"
      ]
    },
    {
      "cell_type": "code",
      "execution_count": null,
      "metadata": {
        "colab": {
          "base_uri": "https://localhost:8080/",
          "height": 389
        },
        "id": "cyDit-tJ37Dk",
        "outputId": "0b9b6056-79c3-49c4-c249-3fbcc016f8fe"
      },
      "outputs": [
        {
          "ename": "KeyboardInterrupt",
          "evalue": "",
          "output_type": "error",
          "traceback": [
            "\u001b[0;31m---------------------------------------------------------------------------\u001b[0m",
            "\u001b[0;31mKeyboardInterrupt\u001b[0m                         Traceback (most recent call last)",
            "\u001b[0;32m<ipython-input-84-9195b3c09597>\u001b[0m in \u001b[0;36m<cell line: 30>\u001b[0;34m()\u001b[0m\n\u001b[1;32m     28\u001b[0m \u001b[0;31m# Perform grid search with cross-validation\u001b[0m\u001b[0;34m\u001b[0m\u001b[0;34m\u001b[0m\u001b[0m\n\u001b[1;32m     29\u001b[0m \u001b[0mgrid_search\u001b[0m \u001b[0;34m=\u001b[0m \u001b[0mGridSearchCV\u001b[0m\u001b[0;34m(\u001b[0m\u001b[0msvm\u001b[0m\u001b[0;34m,\u001b[0m \u001b[0mparam_grid\u001b[0m\u001b[0;34m,\u001b[0m \u001b[0mcv\u001b[0m\u001b[0;34m=\u001b[0m\u001b[0;36m5\u001b[0m\u001b[0;34m)\u001b[0m\u001b[0;34m\u001b[0m\u001b[0;34m\u001b[0m\u001b[0m\n\u001b[0;32m---> 30\u001b[0;31m \u001b[0mgrid_search\u001b[0m\u001b[0;34m.\u001b[0m\u001b[0mfit\u001b[0m\u001b[0;34m(\u001b[0m\u001b[0mXtrain\u001b[0m\u001b[0;34m,\u001b[0m \u001b[0mYtrain\u001b[0m\u001b[0;34m)\u001b[0m\u001b[0;34m\u001b[0m\u001b[0;34m\u001b[0m\u001b[0m\n\u001b[0m\u001b[1;32m     31\u001b[0m \u001b[0;34m\u001b[0m\u001b[0m\n\u001b[1;32m     32\u001b[0m \u001b[0;31m# Print the best parameters found\u001b[0m\u001b[0;34m\u001b[0m\u001b[0;34m\u001b[0m\u001b[0m\n",
            "\u001b[0;32m/usr/local/lib/python3.10/dist-packages/sklearn/model_selection/_search.py\u001b[0m in \u001b[0;36mfit\u001b[0;34m(self, X, y, groups, **fit_params)\u001b[0m\n\u001b[1;32m    872\u001b[0m                 \u001b[0;32mreturn\u001b[0m \u001b[0mresults\u001b[0m\u001b[0;34m\u001b[0m\u001b[0;34m\u001b[0m\u001b[0m\n\u001b[1;32m    873\u001b[0m \u001b[0;34m\u001b[0m\u001b[0m\n\u001b[0;32m--> 874\u001b[0;31m             \u001b[0mself\u001b[0m\u001b[0;34m.\u001b[0m\u001b[0m_run_search\u001b[0m\u001b[0;34m(\u001b[0m\u001b[0mevaluate_candidates\u001b[0m\u001b[0;34m)\u001b[0m\u001b[0;34m\u001b[0m\u001b[0;34m\u001b[0m\u001b[0m\n\u001b[0m\u001b[1;32m    875\u001b[0m \u001b[0;34m\u001b[0m\u001b[0m\n\u001b[1;32m    876\u001b[0m             \u001b[0;31m# multimetric is determined here because in the case of a callable\u001b[0m\u001b[0;34m\u001b[0m\u001b[0;34m\u001b[0m\u001b[0m\n",
            "\u001b[0;32m/usr/local/lib/python3.10/dist-packages/sklearn/model_selection/_search.py\u001b[0m in \u001b[0;36m_run_search\u001b[0;34m(self, evaluate_candidates)\u001b[0m\n\u001b[1;32m   1386\u001b[0m     \u001b[0;32mdef\u001b[0m \u001b[0m_run_search\u001b[0m\u001b[0;34m(\u001b[0m\u001b[0mself\u001b[0m\u001b[0;34m,\u001b[0m \u001b[0mevaluate_candidates\u001b[0m\u001b[0;34m)\u001b[0m\u001b[0;34m:\u001b[0m\u001b[0;34m\u001b[0m\u001b[0;34m\u001b[0m\u001b[0m\n\u001b[1;32m   1387\u001b[0m         \u001b[0;34m\"\"\"Search all candidates in param_grid\"\"\"\u001b[0m\u001b[0;34m\u001b[0m\u001b[0;34m\u001b[0m\u001b[0m\n\u001b[0;32m-> 1388\u001b[0;31m         \u001b[0mevaluate_candidates\u001b[0m\u001b[0;34m(\u001b[0m\u001b[0mParameterGrid\u001b[0m\u001b[0;34m(\u001b[0m\u001b[0mself\u001b[0m\u001b[0;34m.\u001b[0m\u001b[0mparam_grid\u001b[0m\u001b[0;34m)\u001b[0m\u001b[0;34m)\u001b[0m\u001b[0;34m\u001b[0m\u001b[0;34m\u001b[0m\u001b[0m\n\u001b[0m\u001b[1;32m   1389\u001b[0m \u001b[0;34m\u001b[0m\u001b[0m\n\u001b[1;32m   1390\u001b[0m \u001b[0;34m\u001b[0m\u001b[0m\n",
            "\u001b[0;32m/usr/local/lib/python3.10/dist-packages/sklearn/model_selection/_search.py\u001b[0m in \u001b[0;36mevaluate_candidates\u001b[0;34m(candidate_params, cv, more_results)\u001b[0m\n\u001b[1;32m    819\u001b[0m                     )\n\u001b[1;32m    820\u001b[0m \u001b[0;34m\u001b[0m\u001b[0m\n\u001b[0;32m--> 821\u001b[0;31m                 out = parallel(\n\u001b[0m\u001b[1;32m    822\u001b[0m                     delayed(_fit_and_score)(\n\u001b[1;32m    823\u001b[0m                         \u001b[0mclone\u001b[0m\u001b[0;34m(\u001b[0m\u001b[0mbase_estimator\u001b[0m\u001b[0;34m)\u001b[0m\u001b[0;34m,\u001b[0m\u001b[0;34m\u001b[0m\u001b[0;34m\u001b[0m\u001b[0m\n",
            "\u001b[0;32m/usr/local/lib/python3.10/dist-packages/sklearn/utils/parallel.py\u001b[0m in \u001b[0;36m__call__\u001b[0;34m(self, iterable)\u001b[0m\n\u001b[1;32m     61\u001b[0m             \u001b[0;32mfor\u001b[0m \u001b[0mdelayed_func\u001b[0m\u001b[0;34m,\u001b[0m \u001b[0margs\u001b[0m\u001b[0;34m,\u001b[0m \u001b[0mkwargs\u001b[0m \u001b[0;32min\u001b[0m \u001b[0miterable\u001b[0m\u001b[0;34m\u001b[0m\u001b[0;34m\u001b[0m\u001b[0m\n\u001b[1;32m     62\u001b[0m         )\n\u001b[0;32m---> 63\u001b[0;31m         \u001b[0;32mreturn\u001b[0m \u001b[0msuper\u001b[0m\u001b[0;34m(\u001b[0m\u001b[0;34m)\u001b[0m\u001b[0;34m.\u001b[0m\u001b[0m__call__\u001b[0m\u001b[0;34m(\u001b[0m\u001b[0miterable_with_config\u001b[0m\u001b[0;34m)\u001b[0m\u001b[0;34m\u001b[0m\u001b[0;34m\u001b[0m\u001b[0m\n\u001b[0m\u001b[1;32m     64\u001b[0m \u001b[0;34m\u001b[0m\u001b[0m\n\u001b[1;32m     65\u001b[0m \u001b[0;34m\u001b[0m\u001b[0m\n",
            "\u001b[0;32m/usr/local/lib/python3.10/dist-packages/joblib/parallel.py\u001b[0m in \u001b[0;36m__call__\u001b[0;34m(self, iterable)\u001b[0m\n\u001b[1;32m   1916\u001b[0m             \u001b[0moutput\u001b[0m \u001b[0;34m=\u001b[0m \u001b[0mself\u001b[0m\u001b[0;34m.\u001b[0m\u001b[0m_get_sequential_output\u001b[0m\u001b[0;34m(\u001b[0m\u001b[0miterable\u001b[0m\u001b[0;34m)\u001b[0m\u001b[0;34m\u001b[0m\u001b[0;34m\u001b[0m\u001b[0m\n\u001b[1;32m   1917\u001b[0m             \u001b[0mnext\u001b[0m\u001b[0;34m(\u001b[0m\u001b[0moutput\u001b[0m\u001b[0;34m)\u001b[0m\u001b[0;34m\u001b[0m\u001b[0;34m\u001b[0m\u001b[0m\n\u001b[0;32m-> 1918\u001b[0;31m             \u001b[0;32mreturn\u001b[0m \u001b[0moutput\u001b[0m \u001b[0;32mif\u001b[0m \u001b[0mself\u001b[0m\u001b[0;34m.\u001b[0m\u001b[0mreturn_generator\u001b[0m \u001b[0;32melse\u001b[0m \u001b[0mlist\u001b[0m\u001b[0;34m(\u001b[0m\u001b[0moutput\u001b[0m\u001b[0;34m)\u001b[0m\u001b[0;34m\u001b[0m\u001b[0;34m\u001b[0m\u001b[0m\n\u001b[0m\u001b[1;32m   1919\u001b[0m \u001b[0;34m\u001b[0m\u001b[0m\n\u001b[1;32m   1920\u001b[0m         \u001b[0;31m# Let's create an ID that uniquely identifies the current call. If the\u001b[0m\u001b[0;34m\u001b[0m\u001b[0;34m\u001b[0m\u001b[0m\n",
            "\u001b[0;32m/usr/local/lib/python3.10/dist-packages/joblib/parallel.py\u001b[0m in \u001b[0;36m_get_sequential_output\u001b[0;34m(self, iterable)\u001b[0m\n\u001b[1;32m   1845\u001b[0m                 \u001b[0mself\u001b[0m\u001b[0;34m.\u001b[0m\u001b[0mn_dispatched_batches\u001b[0m \u001b[0;34m+=\u001b[0m \u001b[0;36m1\u001b[0m\u001b[0;34m\u001b[0m\u001b[0;34m\u001b[0m\u001b[0m\n\u001b[1;32m   1846\u001b[0m                 \u001b[0mself\u001b[0m\u001b[0;34m.\u001b[0m\u001b[0mn_dispatched_tasks\u001b[0m \u001b[0;34m+=\u001b[0m \u001b[0;36m1\u001b[0m\u001b[0;34m\u001b[0m\u001b[0;34m\u001b[0m\u001b[0m\n\u001b[0;32m-> 1847\u001b[0;31m                 \u001b[0mres\u001b[0m \u001b[0;34m=\u001b[0m \u001b[0mfunc\u001b[0m\u001b[0;34m(\u001b[0m\u001b[0;34m*\u001b[0m\u001b[0margs\u001b[0m\u001b[0;34m,\u001b[0m \u001b[0;34m**\u001b[0m\u001b[0mkwargs\u001b[0m\u001b[0;34m)\u001b[0m\u001b[0;34m\u001b[0m\u001b[0;34m\u001b[0m\u001b[0m\n\u001b[0m\u001b[1;32m   1848\u001b[0m                 \u001b[0mself\u001b[0m\u001b[0;34m.\u001b[0m\u001b[0mn_completed_tasks\u001b[0m \u001b[0;34m+=\u001b[0m \u001b[0;36m1\u001b[0m\u001b[0;34m\u001b[0m\u001b[0;34m\u001b[0m\u001b[0m\n\u001b[1;32m   1849\u001b[0m                 \u001b[0mself\u001b[0m\u001b[0;34m.\u001b[0m\u001b[0mprint_progress\u001b[0m\u001b[0;34m(\u001b[0m\u001b[0;34m)\u001b[0m\u001b[0;34m\u001b[0m\u001b[0;34m\u001b[0m\u001b[0m\n",
            "\u001b[0;32m/usr/local/lib/python3.10/dist-packages/sklearn/utils/parallel.py\u001b[0m in \u001b[0;36m__call__\u001b[0;34m(self, *args, **kwargs)\u001b[0m\n\u001b[1;32m    121\u001b[0m             \u001b[0mconfig\u001b[0m \u001b[0;34m=\u001b[0m \u001b[0;34m{\u001b[0m\u001b[0;34m}\u001b[0m\u001b[0;34m\u001b[0m\u001b[0;34m\u001b[0m\u001b[0m\n\u001b[1;32m    122\u001b[0m         \u001b[0;32mwith\u001b[0m \u001b[0mconfig_context\u001b[0m\u001b[0;34m(\u001b[0m\u001b[0;34m**\u001b[0m\u001b[0mconfig\u001b[0m\u001b[0;34m)\u001b[0m\u001b[0;34m:\u001b[0m\u001b[0;34m\u001b[0m\u001b[0;34m\u001b[0m\u001b[0m\n\u001b[0;32m--> 123\u001b[0;31m             \u001b[0;32mreturn\u001b[0m \u001b[0mself\u001b[0m\u001b[0;34m.\u001b[0m\u001b[0mfunction\u001b[0m\u001b[0;34m(\u001b[0m\u001b[0;34m*\u001b[0m\u001b[0margs\u001b[0m\u001b[0;34m,\u001b[0m \u001b[0;34m**\u001b[0m\u001b[0mkwargs\u001b[0m\u001b[0;34m)\u001b[0m\u001b[0;34m\u001b[0m\u001b[0;34m\u001b[0m\u001b[0m\n\u001b[0m",
            "\u001b[0;32m/usr/local/lib/python3.10/dist-packages/sklearn/model_selection/_validation.py\u001b[0m in \u001b[0;36m_fit_and_score\u001b[0;34m(estimator, X, y, scorer, train, test, verbose, parameters, fit_params, return_train_score, return_parameters, return_n_test_samples, return_times, return_estimator, split_progress, candidate_progress, error_score)\u001b[0m\n\u001b[1;32m    684\u001b[0m             \u001b[0mestimator\u001b[0m\u001b[0;34m.\u001b[0m\u001b[0mfit\u001b[0m\u001b[0;34m(\u001b[0m\u001b[0mX_train\u001b[0m\u001b[0;34m,\u001b[0m \u001b[0;34m**\u001b[0m\u001b[0mfit_params\u001b[0m\u001b[0;34m)\u001b[0m\u001b[0;34m\u001b[0m\u001b[0;34m\u001b[0m\u001b[0m\n\u001b[1;32m    685\u001b[0m         \u001b[0;32melse\u001b[0m\u001b[0;34m:\u001b[0m\u001b[0;34m\u001b[0m\u001b[0;34m\u001b[0m\u001b[0m\n\u001b[0;32m--> 686\u001b[0;31m             \u001b[0mestimator\u001b[0m\u001b[0;34m.\u001b[0m\u001b[0mfit\u001b[0m\u001b[0;34m(\u001b[0m\u001b[0mX_train\u001b[0m\u001b[0;34m,\u001b[0m \u001b[0my_train\u001b[0m\u001b[0;34m,\u001b[0m \u001b[0;34m**\u001b[0m\u001b[0mfit_params\u001b[0m\u001b[0;34m)\u001b[0m\u001b[0;34m\u001b[0m\u001b[0;34m\u001b[0m\u001b[0m\n\u001b[0m\u001b[1;32m    687\u001b[0m \u001b[0;34m\u001b[0m\u001b[0m\n\u001b[1;32m    688\u001b[0m     \u001b[0;32mexcept\u001b[0m \u001b[0mException\u001b[0m\u001b[0;34m:\u001b[0m\u001b[0;34m\u001b[0m\u001b[0;34m\u001b[0m\u001b[0m\n",
            "\u001b[0;32m/usr/local/lib/python3.10/dist-packages/sklearn/svm/_base.py\u001b[0m in \u001b[0;36mfit\u001b[0;34m(self, X, y, sample_weight)\u001b[0m\n\u001b[1;32m    250\u001b[0m \u001b[0;34m\u001b[0m\u001b[0m\n\u001b[1;32m    251\u001b[0m         \u001b[0mseed\u001b[0m \u001b[0;34m=\u001b[0m \u001b[0mrnd\u001b[0m\u001b[0;34m.\u001b[0m\u001b[0mrandint\u001b[0m\u001b[0;34m(\u001b[0m\u001b[0mnp\u001b[0m\u001b[0;34m.\u001b[0m\u001b[0miinfo\u001b[0m\u001b[0;34m(\u001b[0m\u001b[0;34m\"i\"\u001b[0m\u001b[0;34m)\u001b[0m\u001b[0;34m.\u001b[0m\u001b[0mmax\u001b[0m\u001b[0;34m)\u001b[0m\u001b[0;34m\u001b[0m\u001b[0;34m\u001b[0m\u001b[0m\n\u001b[0;32m--> 252\u001b[0;31m         \u001b[0mfit\u001b[0m\u001b[0;34m(\u001b[0m\u001b[0mX\u001b[0m\u001b[0;34m,\u001b[0m \u001b[0my\u001b[0m\u001b[0;34m,\u001b[0m \u001b[0msample_weight\u001b[0m\u001b[0;34m,\u001b[0m \u001b[0msolver_type\u001b[0m\u001b[0;34m,\u001b[0m \u001b[0mkernel\u001b[0m\u001b[0;34m,\u001b[0m \u001b[0mrandom_seed\u001b[0m\u001b[0;34m=\u001b[0m\u001b[0mseed\u001b[0m\u001b[0;34m)\u001b[0m\u001b[0;34m\u001b[0m\u001b[0;34m\u001b[0m\u001b[0m\n\u001b[0m\u001b[1;32m    253\u001b[0m         \u001b[0;31m# see comment on the other call to np.iinfo in this file\u001b[0m\u001b[0;34m\u001b[0m\u001b[0;34m\u001b[0m\u001b[0m\n\u001b[1;32m    254\u001b[0m \u001b[0;34m\u001b[0m\u001b[0m\n",
            "\u001b[0;32m/usr/local/lib/python3.10/dist-packages/sklearn/svm/_base.py\u001b[0m in \u001b[0;36m_dense_fit\u001b[0;34m(self, X, y, sample_weight, solver_type, kernel, random_seed)\u001b[0m\n\u001b[1;32m    329\u001b[0m             \u001b[0mself\u001b[0m\u001b[0;34m.\u001b[0m\u001b[0mfit_status_\u001b[0m\u001b[0;34m,\u001b[0m\u001b[0;34m\u001b[0m\u001b[0;34m\u001b[0m\u001b[0m\n\u001b[1;32m    330\u001b[0m             \u001b[0mself\u001b[0m\u001b[0;34m.\u001b[0m\u001b[0m_num_iter\u001b[0m\u001b[0;34m,\u001b[0m\u001b[0;34m\u001b[0m\u001b[0;34m\u001b[0m\u001b[0m\n\u001b[0;32m--> 331\u001b[0;31m         \u001b[0;34m)\u001b[0m \u001b[0;34m=\u001b[0m \u001b[0mlibsvm\u001b[0m\u001b[0;34m.\u001b[0m\u001b[0mfit\u001b[0m\u001b[0;34m(\u001b[0m\u001b[0;34m\u001b[0m\u001b[0;34m\u001b[0m\u001b[0m\n\u001b[0m\u001b[1;32m    332\u001b[0m             \u001b[0mX\u001b[0m\u001b[0;34m,\u001b[0m\u001b[0;34m\u001b[0m\u001b[0;34m\u001b[0m\u001b[0m\n\u001b[1;32m    333\u001b[0m             \u001b[0my\u001b[0m\u001b[0;34m,\u001b[0m\u001b[0;34m\u001b[0m\u001b[0;34m\u001b[0m\u001b[0m\n",
            "\u001b[0;31mKeyboardInterrupt\u001b[0m: "
          ]
        }
      ],
      "source": [
        "# from sklearn.svm import SVC\n",
        "# # data normalization with sklearn\n",
        "# from sklearn.preprocessing import MinMaxScaler\n",
        "# # fit scaler on training data\n",
        "# norm = MinMaxScaler().fit(Xtrain)\n",
        "# X_train_norm = norm.transform(Xtrain)\n",
        "# # transform testing dataabs\n",
        "# X_test_norm = norm.transform(Xtest)\n",
        "# SVM = SVC(kernel='poly', degree=3, C=1)\n",
        "# SVM.fit(X_train_norm,Ytrain)\n",
        "# predicted_values = SVM.predict(X_test_norm)\n",
        "# x = metrics.accuracy_score(Ytest, predicted_values)\n",
        "# acc.append(x)\n",
        "# model.append('SVM')\n",
        "# print(\"SVM's Accuracy is: \", x)\n",
        "\n",
        "# print(classification_report(Ytest,predicted_values))\n",
        "\n",
        "from sklearn.svm import SVC\n",
        "from sklearn.model_selection import GridSearchCV\n",
        "\n",
        "# Define the parameter grid to search\n",
        "param_grid = {'C': [0.1, 1, 10], 'kernel': ['linear', 'poly', 'rbf'], 'degree': [2, 3, 4]}\n",
        "\n",
        "# Create the SVM model\n",
        "svm = SVC()\n",
        "\n",
        "# Perform grid search with cross-validation\n",
        "grid_search = GridSearchCV(svm, param_grid, cv=5)\n",
        "grid_search.fit(Xtrain, Ytrain)\n",
        "\n",
        "# Print the best parameters found\n",
        "print(\"Best Parameters:\", grid_search.best_params_)\n",
        "\n",
        "# Evaluate the model with the best parameters\n",
        "best_model = grid_search.best_estimator_\n",
        "accuracy = best_model.score(Xtest, Ytest)\n",
        "print(\"Accuracy:\", accuracy)"
      ]
    },
    {
      "cell_type": "code",
      "execution_count": null,
      "metadata": {
        "colab": {
          "base_uri": "https://localhost:8080/"
        },
        "id": "LTY6gSxU37Dl",
        "outputId": "bd63ed70-b3ab-41a0-be62-736f4a453f3e"
      },
      "outputs": [
        {
          "data": {
            "text/plain": [
              "array([0.00498132, 0.00374065, 0.00498753, 0.00623441, 0.00498753])"
            ]
          },
          "execution_count": 34,
          "metadata": {},
          "output_type": "execute_result"
        }
      ],
      "source": [
        "# Cross validation score (SVM)\n",
        "score = cross_val_score(SVM,features,target,cv=5)\n",
        "score"
      ]
    },
    {
      "cell_type": "code",
      "execution_count": null,
      "metadata": {
        "id": "pORqlonB37Dl"
      },
      "outputs": [],
      "source": [
        "#Saving trained SVM model"
      ]
    },
    {
      "cell_type": "code",
      "execution_count": null,
      "metadata": {
        "id": "Beer99Wa37Dm"
      },
      "outputs": [],
      "source": [
        "import pickle\n",
        "# Dump the trained SVM classifier with Pickle\n",
        "SVM_pkl_filename = '../models/SVMClassifier.pkl'\n",
        "# Open the file to save as pkl file\n",
        "SVM_Model_pkl = open(SVM_pkl_filename, 'wb')\n",
        "pickle.dump(SVM, SVM_Model_pkl)\n",
        "# Close the pickle instances\n",
        "SVM_Model_pkl.close()"
      ]
    },
    {
      "cell_type": "markdown",
      "metadata": {
        "id": "20nh5cJi37Dm"
      },
      "source": [
        "# Logistic Regression"
      ]
    },
    {
      "cell_type": "code",
      "execution_count": null,
      "metadata": {
        "colab": {
          "base_uri": "https://localhost:8080/"
        },
        "id": "Zi0P3JH037Dm",
        "outputId": "bf1371c9-2272-4cde-a057-fa0355db176d"
      },
      "outputs": [
        {
          "name": "stdout",
          "output_type": "stream",
          "text": [
            "Logistic Regression's Accuracy is:  0.0024875621890547263\n",
            "                         precision    recall  f1-score   support\n",
            "\n",
            "               aloevera       0.00      0.00      0.00         1\n",
            "      armeniancucumbers       0.00      0.00      0.00         4\n",
            "            ashwagandha       0.00      0.00      0.00         2\n",
            "           babyeggplant       0.00      0.00      0.00         2\n",
            "            babyspinach       0.00      0.00      0.00         2\n",
            "              baylaurel       0.00      0.00      0.00         2\n",
            "                bayleaf       0.00      0.00      0.00         1\n",
            "         beechmushrooms       0.00      0.00      0.00         0\n",
            "      beefsteaktomatoes       0.00      0.00      0.00         2\n",
            "             beetgreens       0.00      0.00      0.00         2\n",
            "               beetroot       0.00      0.00      0.00         1\n",
            "               bergamot       0.00      0.00      0.00         4\n",
            "  bibbbutterheadlettuce       0.00      0.00      0.00         2\n",
            "           blackberries       0.00      0.00      0.00         4\n",
            "            blackpepper       0.00      0.00      0.00         3\n",
            "            blueberries       0.00      0.00      0.00         1\n",
            "                bokchoy       0.00      0.00      0.00         1\n",
            "bostonbutterheadlettuce       0.00      0.00      0.00         3\n",
            "        brusselssprouts       0.00      0.00      0.00         4\n",
            "                cabbage       0.00      0.00      0.00         2\n",
            "              calendula       0.00      0.00      0.00         4\n",
            "           canarymelons       0.00      0.00      0.00         3\n",
            "             cantaloupe       0.00      0.00      0.00         1\n",
            "               capsicum       0.00      0.00      0.00         1\n",
            "               cardamom       0.00      0.00      0.00         3\n",
            "                 carrot       0.00      0.00      0.00         2\n",
            "                 catnip       0.00      0.00      0.00         3\n",
            "            cauliflower       0.00      0.00      0.00         6\n",
            "              chamomile       0.00      0.00      0.00         2\n",
            "      chestnutmushrooms       0.00      0.00      0.00         3\n",
            "        chinesebroccoli       0.00      0.00      0.00         1\n",
            "          chioggiabeets       0.00      0.00      0.00         4\n",
            "                 chives       0.00      0.00      0.00         3\n",
            "          chocolatemint       0.00      0.00      0.00         1\n",
            "               cilantro       0.00      0.00      0.00         3\n",
            "               cinnamon       0.00      0.00      0.00         3\n",
            "                  clove       0.00      0.00      0.00         3\n",
            "          colocasiaroot       0.00      0.00      0.00         3\n",
            "         coralmushrooms       0.00      0.00      0.00         3\n",
            "              coriander       0.00      0.00      0.00         1\n",
            "          corianderleaf       0.00      0.00      0.00         3\n",
            "       creminimushrooms       0.00      0.00      0.00         1\n",
            "              cucamelon       0.00      0.00      0.00         1\n",
            "     cucumisutilissimus       0.00      0.00      0.00         4\n",
            "              curlykale       0.00      0.00      0.00         5\n",
            "           curlyparsley       0.00      0.00      0.00         2\n",
            "         daikonradishes       0.00      0.00      0.00         3\n",
            "               dianthus       0.00      0.00      0.00         2\n",
            "                   dill       0.00      0.00      0.00         3\n",
            "              echinacea       0.00      0.00      0.00         2\n",
            "                 endive       0.00      0.00      0.00         1\n",
            "englishseedlesscucumber       0.00      0.00      0.00         4\n",
            "         enokimushrooms       0.00      0.00      0.00         2\n",
            "                 fennel       0.00      0.00      0.00         4\n",
            "              fenugreek       0.00      0.00      0.00         1\n",
            "        fenugreekleaves       0.00      0.00      0.00         2\n",
            "               feverfew       0.00      0.00      0.00         1\n",
            "        flatleafparsley       0.00      0.00      0.00         1\n",
            "            frenchbeans       0.00      0.00      0.00         1\n",
            "frenchbreakfastradishes       0.06      0.33      0.11         3\n",
            "           frenchsorrel       0.00      0.00      0.00         3\n",
            "            frenchthyme       0.00      0.00      0.00         2\n",
            "    friseemustardgreens       0.00      0.00      0.00         3\n",
            "                 gailan       0.00      0.00      0.00         1\n",
            "             galiamelon       0.00      0.00      0.00         2\n",
            "                 ginger       0.00      0.00      0.00         3\n",
            "                ginseng       0.00      0.00      0.00         7\n",
            "            goldenbeets       0.00      0.00      0.00         2\n",
            "                 grapes       0.00      0.00      0.00         0\n",
            "       greenbellpeppers       0.00      0.00      0.00         4\n",
            "         greenbushbeans       0.00      0.00      0.00         3\n",
            "    greencherrytomatoes       0.00      0.00      0.00         4\n",
            "             greenchili       0.00      0.00      0.00         0\n",
            "       greenleaflettuce       0.00      0.00      0.00         2\n",
            "         groundcherries       0.00      0.00      0.00         0\n",
            "               habanero       0.00      0.00      0.00         1\n",
            "               hibiscus       0.00      0.00      0.00         1\n",
            "          honeydewmelon       0.00      0.00      0.00         3\n",
            "                   hops       0.00      0.00      0.00         1\n",
            "           huskcherries       0.00      0.00      0.00         1\n",
            "         iceberglettuce       0.00      0.00      0.00         4\n",
            "                 indigo       0.00      0.00      0.00         2\n",
            "               jalapeno       0.00      0.00      0.00         2\n",
            "       japaneseeggplant       0.00      0.00      0.00         1\n",
            "    jerusalemartichokes       0.00      0.00      0.00         5\n",
            "    kingoystermushrooms       0.00      0.00      0.00         5\n",
            "         kirbycucumbers       0.00      0.00      0.00         3\n",
            "                   kiwi       0.00      0.00      0.00         3\n",
            "               kohlrabi       0.00      0.00      0.00         1\n",
            "           lacinatokale       0.00      0.00      0.00         3\n",
            "           lady'sfinger       0.00      0.00      0.00         2\n",
            "               lavender       0.00      0.00      0.00         3\n",
            "         lavendercotton       0.00      0.00      0.00         1\n",
            "              lemonbalm       0.00      0.00      0.00         2\n",
            "             lemongrass       0.00      0.00      0.00         2\n",
            "             lemonthyme       0.00      0.00      0.00         0\n",
            "    lion'smanemushrooms       0.00      0.00      0.00         5\n",
            "      lollorossolettuce       0.00      0.00      0.00         2\n",
            "                 lovage       0.00      0.00      0.00         3\n",
            "             luffagourd       0.00      0.00      0.00         1\n",
            "                   maca       0.00      0.00      0.00         3\n",
            "                  mache       0.00      0.00      0.00         3\n",
            "       maitakemushrooms       0.00      0.00      0.00         2\n",
            "         malabarspinach       0.00      0.00      0.00         3\n",
            "              marigolds       0.00      0.00      0.00         3\n",
            "               marjoram       0.00      0.00      0.00         3\n",
            "          minicucumbers       0.00      0.00      0.00         1\n",
            "         miniwatermelon       0.00      0.00      0.00         2\n",
            "                 mizuna       0.00      0.00      0.00         2\n",
            "              muskmelon       0.00      0.00      0.00         0\n",
            "           mustardseeds       0.00      0.00      0.00         2\n",
            "      nasturtiumsflower       0.00      0.00      0.00         1\n",
            "                nigella       0.00      0.00      0.00         2\n",
            "                   okra       0.00      0.00      0.00         2\n",
            "                oregano       0.00      0.00      0.00         2\n",
            "                pakchoi       0.00      0.00      0.00         2\n",
            "                pansies       0.00      0.00      0.00         1\n",
            "               parsnips       0.00      0.00      0.00         3\n",
            "          passionflower       0.00      0.00      0.00         1\n",
            "           passionfruit       0.00      0.00      0.00         0\n",
            "              patchouli       0.00      0.00      0.00         2\n",
            "            pepinomelon       0.00      0.00      0.00         2\n",
            "             peppermint       0.00      0.00      0.00         3\n",
            "       persiancucumbers       0.00      0.00      0.00         1\n",
            "    pinkoystermushrooms       0.00      0.00      0.00         6\n",
            "      pioppinomushrooms       0.00      0.00      0.00         3\n",
            "           plumtomatoes       0.00      0.00      0.00         3\n",
            "           pointedgourd       0.00      0.00      0.00         1\n",
            "                 potato       0.00      0.00      0.00         2\n",
            "              radicchio       0.00      0.00      0.00         1\n",
            "                 radish       0.00      0.00      0.00         3\n",
            "            raspberries       0.00      0.00      0.00         0\n",
            "         redbellpeppers       0.00      0.00      0.00         6\n",
            "      redcherrytomatoes       0.00      0.00      0.00         1\n",
            "               redchili       0.00      0.00      0.00         2\n",
            "       redmustardgreens       0.00      0.00      0.00         1\n",
            "      redromainelettuce       0.00      0.00      0.00         2\n",
            "              rockmelon       0.00      0.00      0.00         4\n",
            "         romainelettuce       0.00      0.00      0.00         2\n",
            "      romanescobroccoli       0.00      0.00      0.00         2\n",
            "           romatomatoes       0.00      0.00      0.00         5\n",
            "               rosemary       0.00      0.00      0.00         1\n",
            "               rutabaga       0.00      0.00      0.00         3\n",
            "                saffron       0.00      0.00      0.00         1\n",
            "                   sage       0.00      0.00      0.00         3\n",
            "                salsify       0.00      0.00      0.00         1\n",
            "             scorzonera       0.00      0.00      0.00         2\n",
            "      shiitakemushrooms       0.00      0.00      0.00         2\n",
            "                  shiso       0.00      0.00      0.00         1\n",
            "           snapbushpeas       0.00      0.00      0.00         5\n",
            "               snowpeas       0.00      0.00      0.00         4\n",
            "                 sorrel       0.00      0.00      0.00         3\n",
            "              spearmint       0.00      0.00      0.00         4\n",
            "                spinach       0.00      0.00      0.00         3\n",
            "            spongegourd       0.00      0.00      0.00         1\n",
            "                 stevia       0.00      0.00      0.00         2\n",
            "           strawberries       0.00      0.00      0.00         1\n",
            "          sugarsnappeas       0.00      0.00      0.00         1\n",
            "             sweetbasil       0.00      0.00      0.00         1\n",
            "            sweetpotato       0.00      0.00      0.00         1\n",
            "                   taro       0.00      0.00      0.00         0\n",
            "                 tatsoi       0.00      0.00      0.00         5\n",
            "                teatree       0.00      0.00      0.00         1\n",
            "                 tendli       0.00      0.00      0.00         0\n",
            "              thaibasil       0.00      0.00      0.00         3\n",
            "             tomatillos       0.00      0.00      0.00         2\n",
            "               turmeric       0.00      0.00      0.00         4\n",
            "                 turnip       0.00      0.00      0.00         3\n",
            "                turnips       0.00      0.00      0.00         2\n",
            "            uplandcress       0.00      0.00      0.00         2\n",
            "                 violas       0.00      0.00      0.00         1\n",
            "                violets       0.00      0.00      0.00         0\n",
            "                 wasabi       0.00      0.00      0.00         1\n",
            "             watercress       0.00      0.00      0.00         1\n",
            "             watermelon       0.00      0.00      0.00         0\n",
            "               waxgourd       0.00      0.00      0.00         3\n",
            "   whitebuttonmushrooms       0.00      0.00      0.00         3\n",
            "             witchhazel       0.00      0.00      0.00         2\n",
            "      yellowbellpeppers       0.00      0.00      0.00         1\n",
            "   yellowcherrytomatoes       0.00      0.00      0.00         1\n",
            "           yellowsquash       0.00      0.00      0.00         2\n",
            "               zucchini       0.00      0.00      0.00         0\n",
            "\n",
            "               accuracy                           0.00       402\n",
            "              macro avg       0.00      0.00      0.00       402\n",
            "           weighted avg       0.00      0.00      0.00       402\n",
            "\n"
          ]
        }
      ],
      "source": [
        "from sklearn.linear_model import LogisticRegression\n",
        "\n",
        "LogReg = LogisticRegression(random_state=8)\n",
        "\n",
        "LogReg.fit(Xtrain,Ytrain)\n",
        "\n",
        "predicted_values = LogReg.predict(Xtest)\n",
        "\n",
        "x = metrics.accuracy_score(Ytest, predicted_values)\n",
        "acc.append(x)\n",
        "model.append('Logistic Regression')\n",
        "print(\"Logistic Regression's Accuracy is: \", x)\n",
        "\n",
        "print(classification_report(Ytest,predicted_values))"
      ]
    },
    {
      "cell_type": "code",
      "execution_count": null,
      "metadata": {
        "colab": {
          "base_uri": "https://localhost:8080/"
        },
        "id": "sIyTcV5X37Dm",
        "outputId": "8e6eb2af-2319-472d-cc52-365889430022"
      },
      "outputs": [
        {
          "data": {
            "text/plain": [
              "array([0.00498132, 0.00249377, 0.0074813 , 0.00498753, 0.00872818])"
            ]
          },
          "execution_count": 36,
          "metadata": {},
          "output_type": "execute_result"
        }
      ],
      "source": [
        "# Cross validation score (Logistic Regression)\n",
        "score = cross_val_score(LogReg,features,target,cv=5)\n",
        "score"
      ]
    },
    {
      "cell_type": "markdown",
      "metadata": {
        "id": "izzYIk9-37Dm"
      },
      "source": [
        "### Saving trained Logistic Regression model"
      ]
    },
    {
      "cell_type": "code",
      "execution_count": null,
      "metadata": {
        "id": "xelRgTUN37Dm"
      },
      "outputs": [],
      "source": [
        "import pickle\n",
        "# Dump the trained Naive Bayes classifier with Pickle\n",
        "LR_pkl_filename = '../models/LogisticRegression.pkl'\n",
        "# Open the file to save as pkl file\n",
        "LR_Model_pkl = open(DT_pkl_filename, 'wb')\n",
        "pickle.dump(LogReg, LR_Model_pkl)\n",
        "# Close the pickle instances\n",
        "LR_Model_pkl.close()"
      ]
    },
    {
      "cell_type": "markdown",
      "metadata": {
        "id": "nm9I0j1b37Dm"
      },
      "source": [
        "# Random Forest"
      ]
    },
    {
      "cell_type": "code",
      "execution_count": null,
      "metadata": {
        "colab": {
          "base_uri": "https://localhost:8080/"
        },
        "id": "rgCNGKEi37Dn",
        "outputId": "5ea0825b-e4e5-4d90-d809-a93006cec758"
      },
      "outputs": [
        {
          "name": "stdout",
          "output_type": "stream",
          "text": [
            "RF's Accuracy is:  0.0024875621890547263\n",
            "                         precision    recall  f1-score   support\n",
            "\n",
            "               aloevera       0.00      0.00      0.00         1\n",
            "      armeniancucumbers       0.00      0.00      0.00         4\n",
            "                arugula       0.00      0.00      0.00         0\n",
            "            ashwagandha       0.00      0.00      0.00         2\n",
            "           babyeggplant       0.00      0.00      0.00         2\n",
            "            babyspinach       0.00      0.00      0.00         2\n",
            "              baylaurel       0.00      0.00      0.00         2\n",
            "                bayleaf       0.00      0.00      0.00         1\n",
            "         beechmushrooms       0.00      0.00      0.00         0\n",
            "      beefsteaktomatoes       0.00      0.00      0.00         2\n",
            "             beetgreens       0.00      0.00      0.00         2\n",
            "               beetroot       0.00      0.00      0.00         1\n",
            "               bergamot       0.00      0.00      0.00         4\n",
            "  bibbbutterheadlettuce       0.00      0.00      0.00         2\n",
            "           blackberries       0.00      0.00      0.00         4\n",
            "            blackpepper       0.00      0.00      0.00         3\n",
            "            blueberries       0.00      0.00      0.00         1\n",
            "                bokchoy       0.00      0.00      0.00         1\n",
            "                 borage       0.00      0.00      0.00         0\n",
            "bostonbutterheadlettuce       0.00      0.00      0.00         3\n",
            "        brusselssprouts       0.00      0.00      0.00         4\n",
            "                cabbage       0.00      0.00      0.00         2\n",
            "      calabresebroccoli       0.00      0.00      0.00         0\n",
            "              calendula       0.00      0.00      0.00         4\n",
            "           canarymelons       0.00      0.00      0.00         3\n",
            "             cantaloupe       0.00      0.00      0.00         1\n",
            "               capsicum       0.00      0.00      0.00         1\n",
            "               cardamom       0.00      0.00      0.00         3\n",
            "                 carrot       0.00      0.00      0.00         2\n",
            "                 catnip       0.00      0.00      0.00         3\n",
            "            cauliflower       0.00      0.00      0.00         6\n",
            "                cayenne       0.00      0.00      0.00         0\n",
            "                 celery       0.00      0.00      0.00         0\n",
            "              chamomile       0.00      0.00      0.00         2\n",
            "      chestnutmushrooms       0.00      0.00      0.00         3\n",
            "        chinesebroccoli       0.00      0.00      0.00         1\n",
            "          chioggiabeets       0.00      0.00      0.00         4\n",
            "                 chives       0.00      0.00      0.00         3\n",
            "          chocolatemint       0.00      0.00      0.00         1\n",
            "               cilantro       0.00      0.00      0.00         3\n",
            "               cinnamon       0.00      0.00      0.00         3\n",
            "                  clove       0.00      0.00      0.00         3\n",
            "          colocasiaroot       0.00      0.00      0.00         3\n",
            "         coralmushrooms       0.00      0.00      0.00         3\n",
            "              coriander       0.00      0.00      0.00         1\n",
            "          corianderleaf       0.00      0.00      0.00         3\n",
            "       creminimushrooms       0.00      0.00      0.00         1\n",
            "              cucamelon       0.00      0.00      0.00         1\n",
            "     cucumisutilissimus       0.00      0.00      0.00         4\n",
            "              curlykale       0.00      0.00      0.00         5\n",
            "           curlyparsley       0.00      0.00      0.00         2\n",
            "         daikonradishes       0.00      0.00      0.00         3\n",
            "              daylilies       0.00      0.00      0.00         0\n",
            "               dianthus       0.00      0.00      0.00         2\n",
            "                   dill       0.00      0.00      0.00         3\n",
            "              echinacea       0.00      0.00      0.00         2\n",
            "                 endive       0.00      0.00      0.00         1\n",
            "englishseedlesscucumber       0.00      0.00      0.00         4\n",
            "         enokimushrooms       0.00      0.00      0.00         2\n",
            "                 fennel       0.50      0.25      0.33         4\n",
            "              fenugreek       0.00      0.00      0.00         1\n",
            "        fenugreekleaves       0.00      0.00      0.00         2\n",
            "               feverfew       0.00      0.00      0.00         1\n",
            "        flatleafparsley       0.00      0.00      0.00         1\n",
            "            frenchbeans       0.00      0.00      0.00         1\n",
            "frenchbreakfastradishes       0.00      0.00      0.00         3\n",
            "           frenchsorrel       0.00      0.00      0.00         3\n",
            "            frenchthyme       0.00      0.00      0.00         2\n",
            "    friseemustardgreens       0.00      0.00      0.00         3\n",
            "                 gailan       0.00      0.00      0.00         1\n",
            "             galiamelon       0.00      0.00      0.00         2\n",
            "                 ginger       0.00      0.00      0.00         3\n",
            "                ginseng       0.00      0.00      0.00         7\n",
            "            goldenbeets       0.00      0.00      0.00         2\n",
            "                 grapes       0.00      0.00      0.00         0\n",
            "       greenbellpeppers       0.00      0.00      0.00         4\n",
            "         greenbushbeans       0.00      0.00      0.00         3\n",
            "    greencherrytomatoes       0.00      0.00      0.00         4\n",
            "             greenchili       0.00      0.00      0.00         0\n",
            "       greenleaflettuce       0.00      0.00      0.00         2\n",
            "               habanero       0.00      0.00      0.00         1\n",
            "               hibiscus       0.00      0.00      0.00         1\n",
            "          honeydewmelon       0.00      0.00      0.00         3\n",
            "                   hops       0.00      0.00      0.00         1\n",
            "           huskcherries       0.00      0.00      0.00         1\n",
            "         iceberglettuce       0.00      0.00      0.00         4\n",
            "                 indigo       0.00      0.00      0.00         2\n",
            "               jalapeno       0.00      0.00      0.00         2\n",
            "       japaneseeggplant       0.00      0.00      0.00         1\n",
            "    jerusalemartichokes       0.00      0.00      0.00         5\n",
            "    kingoystermushrooms       0.00      0.00      0.00         5\n",
            "         kirbycucumbers       0.00      0.00      0.00         3\n",
            "                   kiwi       0.00      0.00      0.00         3\n",
            "               kohlrabi       0.00      0.00      0.00         1\n",
            "           lacinatokale       0.00      0.00      0.00         3\n",
            "           lady'sfinger       0.00      0.00      0.00         2\n",
            "               lavender       0.00      0.00      0.00         3\n",
            "         lavendercotton       0.00      0.00      0.00         1\n",
            "              lemonbalm       0.00      0.00      0.00         2\n",
            "             lemonbasil       0.00      0.00      0.00         0\n",
            "             lemongrass       0.00      0.00      0.00         2\n",
            "             lemonthyme       0.00      0.00      0.00         0\n",
            "    lion'smanemushrooms       0.00      0.00      0.00         5\n",
            "      lollorossolettuce       0.00      0.00      0.00         2\n",
            "                 lovage       0.00      0.00      0.00         3\n",
            "             luffagourd       0.00      0.00      0.00         1\n",
            "                   maca       0.00      0.00      0.00         3\n",
            "                  mache       0.00      0.00      0.00         3\n",
            "       maitakemushrooms       0.00      0.00      0.00         2\n",
            "         malabarspinach       0.00      0.00      0.00         3\n",
            "              marigolds       0.00      0.00      0.00         3\n",
            "               marjoram       0.00      0.00      0.00         3\n",
            "          minicucumbers       0.00      0.00      0.00         1\n",
            "         miniwatermelon       0.00      0.00      0.00         2\n",
            "                 mizuna       0.00      0.00      0.00         2\n",
            "              muskmelon       0.00      0.00      0.00         0\n",
            "           mustardseeds       0.00      0.00      0.00         2\n",
            "      nasturtiumsflower       0.00      0.00      0.00         1\n",
            "                nigella       0.00      0.00      0.00         2\n",
            "                   okra       0.00      0.00      0.00         2\n",
            "                oregano       0.00      0.00      0.00         2\n",
            "                pakchoi       0.00      0.00      0.00         2\n",
            "                pansies       0.00      0.00      0.00         1\n",
            "               parsnips       0.00      0.00      0.00         3\n",
            "          passionflower       0.00      0.00      0.00         1\n",
            "              patchouli       0.00      0.00      0.00         2\n",
            "            pepinomelon       0.00      0.00      0.00         2\n",
            "             peppermint       0.00      0.00      0.00         3\n",
            "       persiancucumbers       0.00      0.00      0.00         1\n",
            "    pinkoystermushrooms       0.00      0.00      0.00         6\n",
            "      pioppinomushrooms       0.00      0.00      0.00         3\n",
            "           plumtomatoes       0.00      0.00      0.00         3\n",
            "           pointedgourd       0.00      0.00      0.00         1\n",
            "                 potato       0.00      0.00      0.00         2\n",
            "              radicchio       0.00      0.00      0.00         1\n",
            "                 radish       0.00      0.00      0.00         3\n",
            "            raspberries       0.00      0.00      0.00         0\n",
            "         redbellpeppers       0.00      0.00      0.00         6\n",
            "      redcherrytomatoes       0.00      0.00      0.00         1\n",
            "               redchili       0.00      0.00      0.00         2\n",
            "       redmustardgreens       0.00      0.00      0.00         1\n",
            "      redromainelettuce       0.00      0.00      0.00         2\n",
            "              rockmelon       0.00      0.00      0.00         4\n",
            "         romainelettuce       0.00      0.00      0.00         2\n",
            "      romanescobroccoli       0.00      0.00      0.00         2\n",
            "           romatomatoes       0.00      0.00      0.00         5\n",
            "               rosemary       0.00      0.00      0.00         1\n",
            "               rutabaga       0.00      0.00      0.00         3\n",
            "                saffron       0.00      0.00      0.00         1\n",
            "                   sage       0.00      0.00      0.00         3\n",
            "                salsify       0.00      0.00      0.00         1\n",
            "             scorzonera       0.00      0.00      0.00         2\n",
            "      shiitakemushrooms       0.00      0.00      0.00         2\n",
            "                  shiso       0.00      0.00      0.00         1\n",
            "           snapbushpeas       0.00      0.00      0.00         5\n",
            "               snowpeas       0.00      0.00      0.00         4\n",
            "                 sorrel       0.00      0.00      0.00         3\n",
            "              spearmint       0.00      0.00      0.00         4\n",
            "                spinach       0.00      0.00      0.00         3\n",
            "            spongegourd       0.00      0.00      0.00         1\n",
            "                 stevia       0.00      0.00      0.00         2\n",
            "           strawberries       0.00      0.00      0.00         1\n",
            "          sugarsnappeas       0.00      0.00      0.00         1\n",
            "             sweetbasil       0.00      0.00      0.00         1\n",
            "            sweetpotato       0.00      0.00      0.00         1\n",
            "             swisschard       0.00      0.00      0.00         0\n",
            "                   taro       0.00      0.00      0.00         0\n",
            "                 tatsoi       0.00      0.00      0.00         5\n",
            "                teatree       0.00      0.00      0.00         1\n",
            "                 tendli       0.00      0.00      0.00         0\n",
            "              thaibasil       0.00      0.00      0.00         3\n",
            "             tomatillos       0.00      0.00      0.00         2\n",
            "               turmeric       0.00      0.00      0.00         4\n",
            "                 turnip       0.00      0.00      0.00         3\n",
            "                turnips       0.00      0.00      0.00         2\n",
            "            uplandcress       0.00      0.00      0.00         2\n",
            "                 violas       0.00      0.00      0.00         1\n",
            "                violets       0.00      0.00      0.00         0\n",
            "                 wasabi       0.00      0.00      0.00         1\n",
            "             watercress       0.00      0.00      0.00         1\n",
            "             watermelon       0.00      0.00      0.00         0\n",
            "               waxgourd       0.00      0.00      0.00         3\n",
            "   whitebuttonmushrooms       0.00      0.00      0.00         3\n",
            "             witchhazel       0.00      0.00      0.00         2\n",
            "      yellowbellpeppers       0.00      0.00      0.00         1\n",
            "   yellowcherrytomatoes       0.00      0.00      0.00         1\n",
            "           yellowsquash       0.00      0.00      0.00         2\n",
            "               zucchini       0.00      0.00      0.00         0\n",
            "\n",
            "               accuracy                           0.00       402\n",
            "              macro avg       0.00      0.00      0.00       402\n",
            "           weighted avg       0.00      0.00      0.00       402\n",
            "\n"
          ]
        }
      ],
      "source": [
        "from sklearn.ensemble import RandomForestClassifier\n",
        "\n",
        "RF = RandomForestClassifier(n_estimators=100, random_state=8)\n",
        "RF.fit(Xtrain,Ytrain)\n",
        "\n",
        "predicted_values = RF.predict(Xtest)\n",
        "\n",
        "x = metrics.accuracy_score(Ytest, predicted_values)\n",
        "acc.append(x)\n",
        "model.append('RF')\n",
        "print(\"RF's Accuracy is: \", x)\n",
        "\n",
        "print(classification_report(Ytest,predicted_values))"
      ]
    },
    {
      "cell_type": "code",
      "execution_count": null,
      "metadata": {
        "colab": {
          "base_uri": "https://localhost:8080/"
        },
        "id": "JMIusaIH37Dn",
        "outputId": "54b3a533-11d9-41cb-9675-3b14dd0a91ea"
      },
      "outputs": [
        {
          "data": {
            "text/plain": [
              "array([0.00249066, 0.00498753, 0.00124688, 0.0074813 , 0.00249377])"
            ]
          },
          "execution_count": 91,
          "metadata": {},
          "output_type": "execute_result"
        }
      ],
      "source": [
        "# Cross validation score (Random Forest)\n",
        "score = cross_val_score(RF,features,target,cv=5)\n",
        "score"
      ]
    },
    {
      "cell_type": "markdown",
      "metadata": {
        "id": "kbs0Do5R37Dn"
      },
      "source": [
        "### Saving trained Random Forest model"
      ]
    },
    {
      "cell_type": "code",
      "execution_count": null,
      "metadata": {
        "id": "9evvfC5H37Dn"
      },
      "outputs": [],
      "source": [
        "import pickle\n",
        "# Dump the trained Naive Bayes classifier with Pickle\n",
        "RF_pkl_filename = '../models/RandomForest.pkl'\n",
        "# Open the file to save as pkl file\n",
        "RF_Model_pkl = open(RF_pkl_filename, 'wb')\n",
        "pickle.dump(RF, RF_Model_pkl)\n",
        "# Close the pickle instances\n",
        "RF_Model_pkl.close()"
      ]
    },
    {
      "cell_type": "markdown",
      "metadata": {
        "id": "MDkfXuBi37Do"
      },
      "source": [
        "# XGBoost"
      ]
    },
    {
      "cell_type": "code",
      "execution_count": null,
      "metadata": {
        "colab": {
          "base_uri": "https://localhost:8080/"
        },
        "id": "EcRgzNAz37Do",
        "outputId": "8363de15-839e-4cb9-cdab-23676f708912",
        "scrolled": true
      },
      "outputs": [
        {
          "name": "stdout",
          "output_type": "stream",
          "text": [
            "XGBoost's Accuracy is:  0.004975124378109453\n",
            "              precision    recall  f1-score   support\n",
            "\n",
            "           0       0.00      0.00      0.00         1\n",
            "           1       0.00      0.00      0.00         4\n",
            "           3       0.00      0.00      0.00         2\n",
            "           4       0.00      0.00      0.00         2\n",
            "           5       0.00      0.00      0.00         2\n",
            "           6       0.00      0.00      0.00         2\n",
            "           7       0.00      0.00      0.00         1\n",
            "           8       0.00      0.00      0.00         0\n",
            "           9       0.00      0.00      0.00         2\n",
            "          10       0.00      0.00      0.00         2\n",
            "          11       0.00      0.00      0.00         1\n",
            "          12       0.00      0.00      0.00         4\n",
            "          13       0.00      0.00      0.00         2\n",
            "          14       0.00      0.00      0.00         4\n",
            "          15       1.00      0.33      0.50         3\n",
            "          16       0.00      0.00      0.00         1\n",
            "          17       0.00      0.00      0.00         1\n",
            "          18       0.00      0.00      0.00         0\n",
            "          19       0.00      0.00      0.00         3\n",
            "          20       0.00      0.00      0.00         4\n",
            "          21       0.00      0.00      0.00         2\n",
            "          22       0.00      0.00      0.00         0\n",
            "          23       0.00      0.00      0.00         4\n",
            "          24       0.00      0.00      0.00         3\n",
            "          25       0.00      0.00      0.00         1\n",
            "          26       0.00      0.00      0.00         1\n",
            "          27       0.00      0.00      0.00         3\n",
            "          28       0.00      0.00      0.00         2\n",
            "          29       0.00      0.00      0.00         3\n",
            "          30       0.00      0.00      0.00         6\n",
            "          31       0.00      0.00      0.00         0\n",
            "          32       0.00      0.00      0.00         0\n",
            "          33       0.00      0.00      0.00         2\n",
            "          34       0.00      0.00      0.00         3\n",
            "          35       0.00      0.00      0.00         1\n",
            "          36       0.00      0.00      0.00         4\n",
            "          37       0.00      0.00      0.00         3\n",
            "          38       0.00      0.00      0.00         1\n",
            "          39       0.00      0.00      0.00         3\n",
            "          40       0.00      0.00      0.00         3\n",
            "          41       0.00      0.00      0.00         3\n",
            "          42       0.00      0.00      0.00         3\n",
            "          43       0.00      0.00      0.00         3\n",
            "          44       0.00      0.00      0.00         1\n",
            "          45       0.00      0.00      0.00         3\n",
            "          46       0.00      0.00      0.00         1\n",
            "          47       0.00      0.00      0.00         1\n",
            "          48       0.00      0.00      0.00         4\n",
            "          49       0.00      0.00      0.00         5\n",
            "          50       0.00      0.00      0.00         2\n",
            "          51       0.00      0.00      0.00         3\n",
            "          52       0.00      0.00      0.00         0\n",
            "          53       0.00      0.00      0.00         2\n",
            "          54       0.00      0.00      0.00         3\n",
            "          55       0.00      0.00      0.00         2\n",
            "          56       0.00      0.00      0.00         1\n",
            "          57       0.00      0.00      0.00         4\n",
            "          58       0.00      0.00      0.00         2\n",
            "          59       0.00      0.00      0.00         4\n",
            "          60       0.00      0.00      0.00         1\n",
            "          61       0.00      0.00      0.00         2\n",
            "          62       0.00      0.00      0.00         1\n",
            "          63       0.00      0.00      0.00         1\n",
            "          64       0.00      0.00      0.00         1\n",
            "          65       0.00      0.00      0.00         3\n",
            "          66       0.00      0.00      0.00         3\n",
            "          67       0.00      0.00      0.00         2\n",
            "          68       0.00      0.00      0.00         3\n",
            "          69       0.00      0.00      0.00         1\n",
            "          70       0.00      0.00      0.00         2\n",
            "          71       0.00      0.00      0.00         3\n",
            "          72       0.00      0.00      0.00         7\n",
            "          73       0.00      0.00      0.00         2\n",
            "          74       0.00      0.00      0.00         0\n",
            "          75       0.00      0.00      0.00         4\n",
            "          76       0.00      0.00      0.00         3\n",
            "          77       0.00      0.00      0.00         4\n",
            "          79       0.00      0.00      0.00         2\n",
            "          80       0.00      0.00      0.00         0\n",
            "          81       0.00      0.00      0.00         1\n",
            "          82       0.00      0.00      0.00         1\n",
            "          83       0.00      0.00      0.00         3\n",
            "          84       0.00      0.00      0.00         1\n",
            "          85       0.00      0.00      0.00         1\n",
            "          86       0.00      0.00      0.00         4\n",
            "          87       0.00      0.00      0.00         2\n",
            "          88       0.00      0.00      0.00         2\n",
            "          89       0.00      0.00      0.00         1\n",
            "          90       0.00      0.00      0.00         5\n",
            "          91       0.00      0.00      0.00         5\n",
            "          92       0.00      0.00      0.00         3\n",
            "          93       0.00      0.00      0.00         3\n",
            "          94       0.00      0.00      0.00         1\n",
            "          95       0.00      0.00      0.00         3\n",
            "          96       0.00      0.00      0.00         2\n",
            "          97       0.00      0.00      0.00         3\n",
            "          98       0.00      0.00      0.00         1\n",
            "          99       0.00      0.00      0.00         2\n",
            "         100       0.00      0.00      0.00         0\n",
            "         101       0.00      0.00      0.00         2\n",
            "         102       0.00      0.00      0.00         0\n",
            "         103       0.00      0.00      0.00         5\n",
            "         104       0.00      0.00      0.00         2\n",
            "         105       0.00      0.00      0.00         3\n",
            "         106       0.00      0.00      0.00         1\n",
            "         107       0.00      0.00      0.00         3\n",
            "         108       0.00      0.00      0.00         3\n",
            "         109       0.00      0.00      0.00         2\n",
            "         110       0.00      0.00      0.00         3\n",
            "         111       0.00      0.00      0.00         3\n",
            "         112       0.00      0.00      0.00         3\n",
            "         113       0.00      0.00      0.00         1\n",
            "         114       0.00      0.00      0.00         2\n",
            "         115       0.00      0.00      0.00         2\n",
            "         117       0.00      0.00      0.00         2\n",
            "         118       0.00      0.00      0.00         1\n",
            "         119       0.00      0.00      0.00         2\n",
            "         120       0.00      0.00      0.00         2\n",
            "         121       0.00      0.00      0.00         2\n",
            "         122       0.00      0.00      0.00         2\n",
            "         123       0.00      0.00      0.00         1\n",
            "         124       0.00      0.00      0.00         3\n",
            "         125       0.00      0.00      0.00         1\n",
            "         126       0.00      0.00      0.00         0\n",
            "         127       0.00      0.00      0.00         2\n",
            "         128       0.00      0.00      0.00         2\n",
            "         129       0.00      0.00      0.00         3\n",
            "         130       0.00      0.00      0.00         1\n",
            "         131       0.00      0.00      0.00         6\n",
            "         132       0.00      0.00      0.00         3\n",
            "         133       0.00      0.00      0.00         3\n",
            "         134       0.00      0.00      0.00         1\n",
            "         135       0.00      0.00      0.00         2\n",
            "         136       0.00      0.00      0.00         1\n",
            "         137       0.00      0.00      0.00         3\n",
            "         138       0.00      0.00      0.00         0\n",
            "         139       0.00      0.00      0.00         6\n",
            "         140       0.00      0.00      0.00         1\n",
            "         141       0.00      0.00      0.00         2\n",
            "         142       0.00      0.00      0.00         1\n",
            "         143       0.00      0.00      0.00         2\n",
            "         144       0.00      0.00      0.00         4\n",
            "         145       0.00      0.00      0.00         2\n",
            "         146       0.00      0.00      0.00         2\n",
            "         147       0.00      0.00      0.00         5\n",
            "         148       0.00      0.00      0.00         1\n",
            "         149       0.00      0.00      0.00         3\n",
            "         150       0.00      0.00      0.00         1\n",
            "         151       0.00      0.00      0.00         3\n",
            "         152       0.00      0.00      0.00         1\n",
            "         153       0.00      0.00      0.00         2\n",
            "         154       0.00      0.00      0.00         2\n",
            "         155       0.00      0.00      0.00         1\n",
            "         156       0.00      0.00      0.00         5\n",
            "         157       0.00      0.00      0.00         4\n",
            "         158       0.00      0.00      0.00         3\n",
            "         159       0.00      0.00      0.00         4\n",
            "         160       0.00      0.00      0.00         3\n",
            "         161       0.00      0.00      0.00         1\n",
            "         162       0.00      0.00      0.00         2\n",
            "         163       0.00      0.00      0.00         1\n",
            "         164       0.00      0.00      0.00         1\n",
            "         165       0.00      0.00      0.00         1\n",
            "         166       0.00      0.00      0.00         1\n",
            "         168       0.00      0.00      0.00         0\n",
            "         169       0.00      0.00      0.00         0\n",
            "         170       0.00      0.00      0.00         5\n",
            "         171       0.00      0.00      0.00         1\n",
            "         172       0.00      0.00      0.00         0\n",
            "         173       0.20      0.33      0.25         3\n",
            "         174       0.00      0.00      0.00         2\n",
            "         175       0.00      0.00      0.00         4\n",
            "         176       0.00      0.00      0.00         3\n",
            "         177       0.00      0.00      0.00         2\n",
            "         178       0.00      0.00      0.00         2\n",
            "         179       0.00      0.00      0.00         1\n",
            "         180       0.00      0.00      0.00         0\n",
            "         181       0.00      0.00      0.00         1\n",
            "         182       0.00      0.00      0.00         1\n",
            "         183       0.00      0.00      0.00         0\n",
            "         184       0.00      0.00      0.00         3\n",
            "         185       0.00      0.00      0.00         3\n",
            "         186       0.00      0.00      0.00         2\n",
            "         187       0.00      0.00      0.00         1\n",
            "         188       0.00      0.00      0.00         1\n",
            "         189       0.00      0.00      0.00         2\n",
            "         190       0.00      0.00      0.00         0\n",
            "\n",
            "    accuracy                           0.00       402\n",
            "   macro avg       0.01      0.00      0.00       402\n",
            "weighted avg       0.01      0.00      0.01       402\n",
            "\n"
          ]
        }
      ],
      "source": [
        "# import xgboost as xgb\n",
        "# XB = xgb.XGBClassifier()\n",
        "# XB.fit(Xtrain,Ytrain)\n",
        "\n",
        "# predicted_values = XB.predict(Xtest)\n",
        "\n",
        "# x = metrics.accuracy_score(Ytest, predicted_values)\n",
        "# acc.append(x)\n",
        "# model.append('XGBoost')\n",
        "# print(\"XGBoost's Accuracy is: \", x)\n",
        "\n",
        "# print(classification_report(Ytest,predicted_values))\n",
        "import xgboost as xgb\n",
        "from sklearn.preprocessing import LabelEncoder\n",
        "from sklearn import metrics\n",
        "from sklearn.metrics import classification_report\n",
        "\n",
        "# Assuming 'Ytrain' and 'Ytest' currently contain string labels\n",
        "le = LabelEncoder()\n",
        "Ytrain_encoded = le.fit_transform(Ytrain)\n",
        "Ytest_encoded = le.transform(Ytest)\n",
        "\n",
        "XB = xgb.XGBClassifier()\n",
        "XB.fit(Xtrain, Ytrain_encoded)  # Train with encoded labels\n",
        "\n",
        "predicted_values = XB.predict(Xtest)\n",
        "\n",
        "x = metrics.accuracy_score(Ytest_encoded, predicted_values)  # Evaluate with encoded labels\n",
        "acc.append(x)\n",
        "model.append('XGBoost')\n",
        "print(\"XGBoost's Accuracy is: \", x)\n",
        "\n",
        "print(classification_report(Ytest_encoded, predicted_values))  # Use encoded labels for report"
      ]
    },
    {
      "cell_type": "code",
      "execution_count": null,
      "metadata": {
        "colab": {
          "base_uri": "https://localhost:8080/",
          "height": 274
        },
        "id": "5C_BS_be37Do",
        "outputId": "9b15fb0f-a1a7-4a34-e18f-177eb6064a79"
      },
      "outputs": [
        {
          "name": "stdout",
          "output_type": "stream",
          "text": [
            "Shape of features: (4011, 8)\n",
            "Shape of Ytrain_encoded: (3609,)\n"
          ]
        },
        {
          "ename": "AssertionError",
          "evalue": "Features and labels must have the same length",
          "output_type": "error",
          "traceback": [
            "\u001b[0;31m---------------------------------------------------------------------------\u001b[0m",
            "\u001b[0;31mAssertionError\u001b[0m                            Traceback (most recent call last)",
            "\u001b[0;32m<ipython-input-94-e72b80a1169e>\u001b[0m in \u001b[0;36m<cell line: 13>\u001b[0;34m()\u001b[0m\n\u001b[1;32m     11\u001b[0m \u001b[0;34m\u001b[0m\u001b[0m\n\u001b[1;32m     12\u001b[0m \u001b[0;31m# After resolving the mismatch, the assertion should pass\u001b[0m\u001b[0;34m\u001b[0m\u001b[0;34m\u001b[0m\u001b[0m\n\u001b[0;32m---> 13\u001b[0;31m \u001b[0;32massert\u001b[0m \u001b[0mlen\u001b[0m\u001b[0;34m(\u001b[0m\u001b[0mfeatures\u001b[0m\u001b[0;34m)\u001b[0m \u001b[0;34m==\u001b[0m \u001b[0mlen\u001b[0m\u001b[0;34m(\u001b[0m\u001b[0mYtrain_encoded\u001b[0m\u001b[0;34m)\u001b[0m\u001b[0;34m,\u001b[0m \u001b[0;34m\"Features and labels must have the same length\"\u001b[0m\u001b[0;34m\u001b[0m\u001b[0;34m\u001b[0m\u001b[0m\n\u001b[0m\u001b[1;32m     14\u001b[0m \u001b[0;34m\u001b[0m\u001b[0m\n\u001b[1;32m     15\u001b[0m \u001b[0mscore\u001b[0m \u001b[0;34m=\u001b[0m \u001b[0mcross_val_score\u001b[0m\u001b[0;34m(\u001b[0m\u001b[0mXB\u001b[0m\u001b[0;34m,\u001b[0m \u001b[0mfeatures\u001b[0m\u001b[0;34m,\u001b[0m \u001b[0mYtrain_encoded\u001b[0m\u001b[0;34m,\u001b[0m \u001b[0mcv\u001b[0m\u001b[0;34m=\u001b[0m\u001b[0;36m5\u001b[0m\u001b[0;34m)\u001b[0m  \u001b[0;31m# Use encoded labels for cross-validation\u001b[0m\u001b[0;34m\u001b[0m\u001b[0;34m\u001b[0m\u001b[0m\n",
            "\u001b[0;31mAssertionError\u001b[0m: Features and labels must have the same length"
          ]
        }
      ],
      "source": [
        "# # Cross validation score (XGBoost)\n",
        "# score = cross_val_score(XB,features,target,cv=5)\n",
        "# score\n",
        "# Cross validation score (XGBoost)\n",
        "# Ensure 'features' and 'Ytrain_encoded' have the same number of samples\n",
        "assert len(features) == len(Ytrain_encoded), \"Features and labels must have the same length\"\n",
        "\n",
        "score = cross_val_score(XB, features, Ytrain_encoded, cv=5)  # Use encoded labels for cross-validation\n",
        "score"
      ]
    },
    {
      "cell_type": "markdown",
      "metadata": {
        "id": "vaxRZTLy37Do"
      },
      "source": [
        "### Saving trained XGBoost model"
      ]
    },
    {
      "cell_type": "code",
      "execution_count": null,
      "metadata": {
        "id": "PecVFOSN37Do"
      },
      "outputs": [],
      "source": [
        "import pickle\n",
        "# Dump the trained Naive Bayes classifier with Pickle\n",
        "XB_pkl_filename = '../models/XGBoost.pkl'\n",
        "# Open the file to save as pkl file\n",
        "XB_Model_pkl = open(XB_pkl_filename, 'wb')\n",
        "pickle.dump(XB, XB_Model_pkl)\n",
        "# Close the pickle instances\n",
        "XB_Model_pkl.close()"
      ]
    },
    {
      "cell_type": "markdown",
      "metadata": {
        "id": "gQ9onGBL37Do"
      },
      "source": [
        "## Accuracy Comparison"
      ]
    },
    {
      "cell_type": "code",
      "execution_count": null,
      "metadata": {
        "colab": {
          "base_uri": "https://localhost:8080/",
          "height": 432
        },
        "id": "7PR_M8T637Do",
        "outputId": "68891a53-3c3f-4382-cefc-d5629f6e68de"
      },
      "outputs": [
        {
          "data": {
            "text/plain": [
              "<Axes: title={'center': 'Accuracy Comparison'}, xlabel='Accuracy', ylabel='Algorithm'>"
            ]
          },
          "execution_count": 95,
          "metadata": {},
          "output_type": "execute_result"
        },
        {
          "data": {
            "image/png": "[encoded data removed]",
            "text/plain": [
              "<Figure size 1000x500 with 1 Axes>"
            ]
          },
          "metadata": {},
          "output_type": "display_data"
        }
      ],
      "source": [
        "plt.figure(figsize=[10,5],dpi = 100)\n",
        "plt.title('Accuracy Comparison')\n",
        "plt.xlabel('Accuracy')\n",
        "plt.ylabel('Algorithm')\n",
        "sns.barplot(x = acc,y = model,palette='dark')"
      ]
    },
    {
      "cell_type": "code",
      "execution_count": null,
      "metadata": {
        "colab": {
          "base_uri": "https://localhost:8080/"
        },
        "id": "AXDKOLvU37Do",
        "outputId": "1b2156e7-072a-4a33-86ba-84e2d8ad5a0d"
      },
      "outputs": [
        {
          "name": "stdout",
          "output_type": "stream",
          "text": [
            "Decision Tree --> 0.0024875621890547263\n",
            "Naive Bayes --> 0.0024875621890547263\n",
            "SVM --> 0.0024875621890547263\n",
            "Logistic Regression --> 0.0\n",
            "RF --> 0.004975124378109453\n",
            "XGBoost --> 0.007462686567164179\n"
          ]
        }
      ],
      "source": [
        "accuracy_models = dict(zip(model, acc))\n",
        "for k, v in accuracy_models.items():\n",
        "    print (k, '-->', v)"
      ]
    },
    {
      "cell_type": "markdown",
      "metadata": {
        "id": "yxA78HBI37Do"
      },
      "source": [
        "## Making a prediction"
      ]
    },
    {
      "cell_type": "code",
      "execution_count": null,
      "metadata": {
        "colab": {
          "base_uri": "https://localhost:8080/"
        },
        "id": "jFNQyRb537Do",
        "outputId": "a3606346-dfbe-42d1-e4bb-cec111210073"
      },
      "outputs": [
        {
          "name": "stdout",
          "output_type": "stream",
          "text": [
            "['aloevera']\n"
          ]
        }
      ],
      "source": [
        "data = np.array([[26.17526,339.0,6.5,64.17875,20.33515,9.93232,3.00047,0.19864,5.06696,0.50262,0.49952,0.49966,0.49681,0.50083,0.50184,0.4992,0.47646,0.48567,0.94932,2.23409,440.92693]])\n",
        "prediction = RF.predict(data)\n",
        "print(prediction)"
      ]
    },
    {
      "cell_type": "code",
      "execution_count": null,
      "metadata": {
        "colab": {
          "base_uri": "https://localhost:8080/"
        },
        "id": "GbF5NqAY37Dp",
        "outputId": "aad2d11d-bc3e-42cc-834d-03af79f54f2f"
      },
      "outputs": [
        {
          "name": "stdout",
          "output_type": "stream",
          "text": [
            "['jerusalemartichokes']\n"
          ]
        }
      ],
      "source": [
        "data = np.array([[50.1651,348.312,6.75622,71.6564,19.67101,10.19387,3.0205,0.18514,4.96562,0.49923,0.49994,0.49899,0.50054,0.49848,0.49674,0.50047,0.52119,0.57595,0.42673,2.53341,536.26246]])\n",
        "prediction = RF.predict(data)\n",
        "print(prediction)"
      ]
    }
  ],
  "metadata": {
    "colab": {
      "provenance": []
    },
    "kernelspec": {
      "display_name": "Python 3",
      "language": "python",
      "name": "python3"
    },
    "language_info": {
      "codemirror_mode": {
        "name": "ipython",
        "version": 3
      },
      "file_extension": ".py",
      "mimetype": "text/x-python",
      "name": "python",
      "nbconvert_exporter": "python",
      "pygments_lexer": "ipython3",
      "version": "3.8.5"
    }
  },
  "nbformat": 4,
  "nbformat_minor": 0
}
